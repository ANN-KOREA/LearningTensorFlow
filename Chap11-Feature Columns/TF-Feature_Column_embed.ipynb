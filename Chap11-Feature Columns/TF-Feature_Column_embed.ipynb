{
 "cells": [
  {
   "cell_type": "markdown",
   "metadata": {},
   "source": [
    "# Feature Columns"
   ]
  },
  {
   "cell_type": "code",
   "execution_count": 4,
   "metadata": {},
   "outputs": [],
   "source": [
    "%matplotlib inline\n",
    "import math\n",
    "import numpy as np\n",
    "import pandas as pd\n",
    "import seaborn as sn\n",
    "import tensorflow as tf\n",
    "\n",
    "from IPython import display\n",
    "from matplotlib import cm\n",
    "from matplotlib import gridspec\n",
    "from matplotlib import pyplot as plt\n",
    "from tensorflow.data import Dataset\n",
    "from sklearn import metrics\n",
    "\n",
    "sn.set()\n",
    "tf.logging.set_verbosity(tf.logging.ERROR)\n",
    "pd.options.display.max_rows = 10\n",
    "pd.options.display.float_format = '{:.1f}'.format"
   ]
  },
  {
   "cell_type": "code",
   "execution_count": 5,
   "metadata": {},
   "outputs": [
    {
     "data": {
      "text/html": [
       "<div>\n",
       "<style scoped>\n",
       "    .dataframe tbody tr th:only-of-type {\n",
       "        vertical-align: middle;\n",
       "    }\n",
       "\n",
       "    .dataframe tbody tr th {\n",
       "        vertical-align: top;\n",
       "    }\n",
       "\n",
       "    .dataframe thead th {\n",
       "        text-align: right;\n",
       "    }\n",
       "</style>\n",
       "<table border=\"1\" class=\"dataframe\">\n",
       "  <thead>\n",
       "    <tr style=\"text-align: right;\">\n",
       "      <th></th>\n",
       "      <th>longitude</th>\n",
       "      <th>latitude</th>\n",
       "      <th>housing_median_age</th>\n",
       "      <th>total_rooms</th>\n",
       "      <th>total_bedrooms</th>\n",
       "      <th>population</th>\n",
       "      <th>households</th>\n",
       "      <th>median_income</th>\n",
       "      <th>median_house_value</th>\n",
       "    </tr>\n",
       "  </thead>\n",
       "  <tbody>\n",
       "    <tr>\n",
       "      <th>0</th>\n",
       "      <td>-114.3</td>\n",
       "      <td>34.2</td>\n",
       "      <td>15.0</td>\n",
       "      <td>5612.0</td>\n",
       "      <td>1283.0</td>\n",
       "      <td>1015.0</td>\n",
       "      <td>472.0</td>\n",
       "      <td>1.5</td>\n",
       "      <td>66.9</td>\n",
       "    </tr>\n",
       "    <tr>\n",
       "      <th>1</th>\n",
       "      <td>-114.5</td>\n",
       "      <td>34.4</td>\n",
       "      <td>19.0</td>\n",
       "      <td>7650.0</td>\n",
       "      <td>1901.0</td>\n",
       "      <td>1129.0</td>\n",
       "      <td>463.0</td>\n",
       "      <td>1.8</td>\n",
       "      <td>80.1</td>\n",
       "    </tr>\n",
       "    <tr>\n",
       "      <th>2</th>\n",
       "      <td>-114.6</td>\n",
       "      <td>33.7</td>\n",
       "      <td>17.0</td>\n",
       "      <td>720.0</td>\n",
       "      <td>174.0</td>\n",
       "      <td>333.0</td>\n",
       "      <td>117.0</td>\n",
       "      <td>1.7</td>\n",
       "      <td>85.7</td>\n",
       "    </tr>\n",
       "    <tr>\n",
       "      <th>3</th>\n",
       "      <td>-114.6</td>\n",
       "      <td>33.6</td>\n",
       "      <td>14.0</td>\n",
       "      <td>1501.0</td>\n",
       "      <td>337.0</td>\n",
       "      <td>515.0</td>\n",
       "      <td>226.0</td>\n",
       "      <td>3.2</td>\n",
       "      <td>73.4</td>\n",
       "    </tr>\n",
       "    <tr>\n",
       "      <th>4</th>\n",
       "      <td>-114.6</td>\n",
       "      <td>33.6</td>\n",
       "      <td>20.0</td>\n",
       "      <td>1454.0</td>\n",
       "      <td>326.0</td>\n",
       "      <td>624.0</td>\n",
       "      <td>262.0</td>\n",
       "      <td>1.9</td>\n",
       "      <td>65.5</td>\n",
       "    </tr>\n",
       "  </tbody>\n",
       "</table>\n",
       "</div>"
      ],
      "text/plain": [
       "   longitude  latitude  housing_median_age  total_rooms  total_bedrooms  \\\n",
       "0     -114.3      34.2                15.0       5612.0          1283.0   \n",
       "1     -114.5      34.4                19.0       7650.0          1901.0   \n",
       "2     -114.6      33.7                17.0        720.0           174.0   \n",
       "3     -114.6      33.6                14.0       1501.0           337.0   \n",
       "4     -114.6      33.6                20.0       1454.0           326.0   \n",
       "\n",
       "   population  households  median_income  median_house_value  \n",
       "0      1015.0       472.0            1.5                66.9  \n",
       "1      1129.0       463.0            1.8                80.1  \n",
       "2       333.0       117.0            1.7                85.7  \n",
       "3       515.0       226.0            3.2                73.4  \n",
       "4       624.0       262.0            1.9                65.5  "
      ]
     },
     "execution_count": 5,
     "metadata": {},
     "output_type": "execute_result"
    }
   ],
   "source": [
    "cf_housing_df = pd.read_csv('https://storage.googleapis.com/mledu-datasets/california_housing_train.csv')\n",
    "cf_housing_df['median_house_value'] = cf_housing_df['median_house_value'] / 1000.0\n",
    "cf_housing_df.head()"
   ]
  },
  {
   "cell_type": "markdown",
   "metadata": {},
   "source": [
    " "
   ]
  },
  {
   "cell_type": "markdown",
   "metadata": {},
   "source": [
    "## Feature Cross"
   ]
  },
  {
   "cell_type": "code",
   "execution_count": 6,
   "metadata": {},
   "outputs": [],
   "source": [
    "def get_minmax_based_boundaries(feature_values, num_buckets):\n",
    "    min_feature_values = feature_values.min()\n",
    "    max_feature_values = feature_values.max()\n",
    "    boundaries = np.linspace(min_feature_values, max_feature_values, num_buckets-1)\n",
    "    return boundaries.tolist()"
   ]
  },
  {
   "cell_type": "markdown",
   "metadata": {},
   "source": [
    " "
   ]
  },
  {
   "cell_type": "markdown",
   "metadata": {},
   "source": [
    "### 1) bucketized_longitude"
   ]
  },
  {
   "cell_type": "code",
   "execution_count": 9,
   "metadata": {},
   "outputs": [],
   "source": [
    "longitude = tf.feature_column.numeric_column(\"longitude\")\n",
    "\n",
    "# Divide longitude into 10 buckets\n",
    "bucketized_longitude = tf.feature_column.bucketized_column(\n",
    "    longitude, boundaries=get_minmax_based_boundaries(\n",
    "        cf_housing_df[\"longitude\"], 10))"
   ]
  },
  {
   "cell_type": "code",
   "execution_count": 10,
   "metadata": {},
   "outputs": [],
   "source": [
    "feature_columns = [bucketized_longitude]\n",
    "input_layer = tf.feature_column.input_layer(\n",
    "    features={'longitude': [-123.3]},\n",
    "    feature_columns=feature_columns)"
   ]
  },
  {
   "cell_type": "code",
   "execution_count": 11,
   "metadata": {},
   "outputs": [
    {
     "name": "stdout",
     "output_type": "stream",
     "text": [
      "[[0. 1. 0. 0. 0. 0. 0. 0. 0. 0.]]\n",
      "(-124.35, -123.095, -121.84, -120.585, -119.33, -118.075, -116.82, -115.565, -114.31)\n"
     ]
    }
   ],
   "source": [
    "with tf.Session() as sess:\n",
    "    inputs = input_layer.eval()\n",
    "\n",
    "print(inputs)\n",
    "print(bucketized_longitude.boundaries)"
   ]
  },
  {
   "cell_type": "markdown",
   "metadata": {},
   "source": [
    " "
   ]
  },
  {
   "cell_type": "markdown",
   "metadata": {},
   "source": [
    "### 2) bucketized_latitude"
   ]
  },
  {
   "cell_type": "code",
   "execution_count": 12,
   "metadata": {},
   "outputs": [],
   "source": [
    "latitude = tf.feature_column.numeric_column(\"latitude\")\n",
    "\n",
    "# Divide latitude into 10 buckets\n",
    "bucketized_latitude = tf.feature_column.bucketized_column(\n",
    "    latitude, boundaries=get_minmax_based_boundaries(\n",
    "        cf_housing_df['latitude'], 10))"
   ]
  },
  {
   "cell_type": "code",
   "execution_count": 13,
   "metadata": {},
   "outputs": [],
   "source": [
    "feature_columns = [bucketized_latitude]\n",
    "input_layer = tf.feature_column.input_layer(\n",
    "    features={'latitude': [33]},\n",
    "    feature_columns=feature_columns)"
   ]
  },
  {
   "cell_type": "code",
   "execution_count": 14,
   "metadata": {},
   "outputs": [
    {
     "name": "stdout",
     "output_type": "stream",
     "text": [
      "[[0. 1. 0. 0. 0. 0. 0. 0. 0. 0.]]\n",
      "(32.54, 33.71625, 34.8925, 36.06875, 37.245000000000005, 38.42125, 39.597500000000004, 40.77375000000001, 41.95)\n"
     ]
    }
   ],
   "source": [
    "with tf.Session() as sess:\n",
    "    inputs = input_layer.eval()\n",
    "\n",
    "print(inputs)\n",
    "print(bucketized_latitude.boundaries)"
   ]
  },
  {
   "cell_type": "markdown",
   "metadata": {},
   "source": [
    " "
   ]
  },
  {
   "cell_type": "markdown",
   "metadata": {},
   "source": [
    "### 3) long_x_lat - crossed feature\n",
    "\n",
    "`one-hot index = feature-cross % hash_bucket_size` "
   ]
  },
  {
   "cell_type": "code",
   "execution_count": 23,
   "metadata": {},
   "outputs": [],
   "source": [
    "# feature cross\n",
    "long_x_lat = tf.feature_column.crossed_column(\n",
    "    [bucketized_longitude, bucketized_latitude], 10*10)\n",
    "\n",
    "# crossed feature -> one-hot(indicator column)\n",
    "embed_long_x_lat = tf.feature_column.indicator_column(long_x_lat)"
   ]
  },
  {
   "cell_type": "code",
   "execution_count": 24,
   "metadata": {},
   "outputs": [],
   "source": [
    "feature_columns = [embed_long_x_lat]\n",
    "\n",
    "input_layer = tf.feature_column.input_layer(\n",
    "    features={'longitude': [-130], 'latitude': [10]},\n",
    "    feature_columns=feature_columns)"
   ]
  },
  {
   "cell_type": "code",
   "execution_count": 25,
   "metadata": {},
   "outputs": [
    {
     "data": {
      "text/plain": [
       "array([[0., 0., 0., 0., 1., 0., 0., 0., 0., 0., 0., 0., 0., 0., 0., 0.,\n",
       "        0., 0., 0., 0., 0., 0., 0., 0., 0., 0., 0., 0., 0., 0., 0., 0.,\n",
       "        0., 0., 0., 0., 0., 0., 0., 0., 0., 0., 0., 0., 0., 0., 0., 0.,\n",
       "        0., 0., 0., 0., 0., 0., 0., 0., 0., 0., 0., 0., 0., 0., 0., 0.,\n",
       "        0., 0., 0., 0., 0., 0., 0., 0., 0., 0., 0., 0., 0., 0., 0., 0.,\n",
       "        0., 0., 0., 0., 0., 0., 0., 0., 0., 0., 0., 0., 0., 0., 0., 0.,\n",
       "        0., 0., 0., 0.]], dtype=float32)"
      ]
     },
     "execution_count": 25,
     "metadata": {},
     "output_type": "execute_result"
    }
   ],
   "source": [
    "with tf.Session() as sess:\n",
    "    inputs = input_layer.eval()\n",
    "    \n",
    "inputs"
   ]
  },
  {
   "cell_type": "code",
   "execution_count": 26,
   "metadata": {},
   "outputs": [
    {
     "data": {
      "text/plain": [
       "(1, 100)"
      ]
     },
     "execution_count": 26,
     "metadata": {},
     "output_type": "execute_result"
    }
   ],
   "source": [
    "inputs.shape"
   ]
  },
  {
   "cell_type": "markdown",
   "metadata": {},
   "source": [
    " "
   ]
  },
  {
   "cell_type": "markdown",
   "metadata": {},
   "source": [
    "### 4) embedding long_x_lat"
   ]
  },
  {
   "cell_type": "code",
   "execution_count": 18,
   "metadata": {},
   "outputs": [],
   "source": [
    "embed_long_x_lat = tf.feature_column.embedding_column(\n",
    "    long_x_lat, 32)"
   ]
  },
  {
   "cell_type": "code",
   "execution_count": 19,
   "metadata": {},
   "outputs": [],
   "source": [
    "feature_columns = [embed_long_x_lat]\n",
    "\n",
    "input_layer = tf.feature_column.input_layer(\n",
    "    features={'longitude': [-130], 'latitude': [10]},\n",
    "    feature_columns=feature_columns)"
   ]
  },
  {
   "cell_type": "code",
   "execution_count": 21,
   "metadata": {},
   "outputs": [
    {
     "data": {
      "text/plain": [
       "array([[-0.0574039 , -0.20360339, -0.02098681,  0.23285338,  0.13189551,\n",
       "        -0.17860322, -0.2739333 , -0.10702775, -0.34425932, -0.25013763,\n",
       "        -0.00682505, -0.03940776,  0.09334876,  0.08902777, -0.09327023,\n",
       "        -0.34497663,  0.1810162 , -0.2107506 , -0.2190317 ,  0.06281308,\n",
       "        -0.0877175 ,  0.10105263,  0.24090125,  0.0499248 , -0.2150563 ,\n",
       "        -0.20175344,  0.13349497,  0.13180313,  0.02145167,  0.3244529 ,\n",
       "        -0.06945614,  0.28835878]], dtype=float32)"
      ]
     },
     "execution_count": 21,
     "metadata": {},
     "output_type": "execute_result"
    }
   ],
   "source": [
    "with tf.Session() as sess:\n",
    "    tf.global_variables_initializer().run()\n",
    "    inputs = input_layer.eval()\n",
    "    \n",
    "inputs"
   ]
  },
  {
   "cell_type": "code",
   "execution_count": 22,
   "metadata": {},
   "outputs": [
    {
     "data": {
      "text/plain": [
       "(1, 32)"
      ]
     },
     "execution_count": 22,
     "metadata": {},
     "output_type": "execute_result"
    }
   ],
   "source": [
    "inputs.shape"
   ]
  },
  {
   "cell_type": "markdown",
   "metadata": {},
   "source": [
    "## Feature Column in Low-Level API"
   ]
  },
  {
   "cell_type": "code",
   "execution_count": 27,
   "metadata": {},
   "outputs": [
    {
     "data": {
      "text/html": [
       "<div>\n",
       "<style scoped>\n",
       "    .dataframe tbody tr th:only-of-type {\n",
       "        vertical-align: middle;\n",
       "    }\n",
       "\n",
       "    .dataframe tbody tr th {\n",
       "        vertical-align: top;\n",
       "    }\n",
       "\n",
       "    .dataframe thead th {\n",
       "        text-align: right;\n",
       "    }\n",
       "</style>\n",
       "<table border=\"1\" class=\"dataframe\">\n",
       "  <thead>\n",
       "    <tr style=\"text-align: right;\">\n",
       "      <th></th>\n",
       "      <th>longitude</th>\n",
       "      <th>latitude</th>\n",
       "      <th>housing_median_age</th>\n",
       "      <th>total_rooms</th>\n",
       "      <th>total_bedrooms</th>\n",
       "      <th>population</th>\n",
       "      <th>households</th>\n",
       "      <th>median_income</th>\n",
       "      <th>median_house_value</th>\n",
       "    </tr>\n",
       "  </thead>\n",
       "  <tbody>\n",
       "    <tr>\n",
       "      <th>0</th>\n",
       "      <td>-114.3</td>\n",
       "      <td>34.2</td>\n",
       "      <td>15.0</td>\n",
       "      <td>5612.0</td>\n",
       "      <td>1283.0</td>\n",
       "      <td>1015.0</td>\n",
       "      <td>472.0</td>\n",
       "      <td>1.5</td>\n",
       "      <td>66.9</td>\n",
       "    </tr>\n",
       "    <tr>\n",
       "      <th>1</th>\n",
       "      <td>-114.5</td>\n",
       "      <td>34.4</td>\n",
       "      <td>19.0</td>\n",
       "      <td>7650.0</td>\n",
       "      <td>1901.0</td>\n",
       "      <td>1129.0</td>\n",
       "      <td>463.0</td>\n",
       "      <td>1.8</td>\n",
       "      <td>80.1</td>\n",
       "    </tr>\n",
       "    <tr>\n",
       "      <th>2</th>\n",
       "      <td>-114.6</td>\n",
       "      <td>33.7</td>\n",
       "      <td>17.0</td>\n",
       "      <td>720.0</td>\n",
       "      <td>174.0</td>\n",
       "      <td>333.0</td>\n",
       "      <td>117.0</td>\n",
       "      <td>1.7</td>\n",
       "      <td>85.7</td>\n",
       "    </tr>\n",
       "    <tr>\n",
       "      <th>3</th>\n",
       "      <td>-114.6</td>\n",
       "      <td>33.6</td>\n",
       "      <td>14.0</td>\n",
       "      <td>1501.0</td>\n",
       "      <td>337.0</td>\n",
       "      <td>515.0</td>\n",
       "      <td>226.0</td>\n",
       "      <td>3.2</td>\n",
       "      <td>73.4</td>\n",
       "    </tr>\n",
       "    <tr>\n",
       "      <th>4</th>\n",
       "      <td>-114.6</td>\n",
       "      <td>33.6</td>\n",
       "      <td>20.0</td>\n",
       "      <td>1454.0</td>\n",
       "      <td>326.0</td>\n",
       "      <td>624.0</td>\n",
       "      <td>262.0</td>\n",
       "      <td>1.9</td>\n",
       "      <td>65.5</td>\n",
       "    </tr>\n",
       "  </tbody>\n",
       "</table>\n",
       "</div>"
      ],
      "text/plain": [
       "   longitude  latitude  housing_median_age  total_rooms  total_bedrooms  \\\n",
       "0     -114.3      34.2                15.0       5612.0          1283.0   \n",
       "1     -114.5      34.4                19.0       7650.0          1901.0   \n",
       "2     -114.6      33.7                17.0        720.0           174.0   \n",
       "3     -114.6      33.6                14.0       1501.0           337.0   \n",
       "4     -114.6      33.6                20.0       1454.0           326.0   \n",
       "\n",
       "   population  households  median_income  median_house_value  \n",
       "0      1015.0       472.0            1.5                66.9  \n",
       "1      1129.0       463.0            1.8                80.1  \n",
       "2       333.0       117.0            1.7                85.7  \n",
       "3       515.0       226.0            3.2                73.4  \n",
       "4       624.0       262.0            1.9                65.5  "
      ]
     },
     "execution_count": 27,
     "metadata": {},
     "output_type": "execute_result"
    }
   ],
   "source": [
    "cf_housing_df = pd.read_csv('https://storage.googleapis.com/mledu-datasets/california_housing_train.csv')\n",
    "cf_housing_df['median_house_value'] = cf_housing_df['median_house_value'] / 1000.0\n",
    "cf_housing_df.head()"
   ]
  },
  {
   "cell_type": "code",
   "execution_count": 28,
   "metadata": {},
   "outputs": [
    {
     "data": {
      "text/html": [
       "<div>\n",
       "<style scoped>\n",
       "    .dataframe tbody tr th:only-of-type {\n",
       "        vertical-align: middle;\n",
       "    }\n",
       "\n",
       "    .dataframe tbody tr th {\n",
       "        vertical-align: top;\n",
       "    }\n",
       "\n",
       "    .dataframe thead th {\n",
       "        text-align: right;\n",
       "    }\n",
       "</style>\n",
       "<table border=\"1\" class=\"dataframe\">\n",
       "  <thead>\n",
       "    <tr style=\"text-align: right;\">\n",
       "      <th></th>\n",
       "      <th>longitude</th>\n",
       "      <th>latitude</th>\n",
       "      <th>housing_median_age</th>\n",
       "      <th>total_rooms</th>\n",
       "      <th>total_bedrooms</th>\n",
       "      <th>population</th>\n",
       "      <th>households</th>\n",
       "      <th>median_income</th>\n",
       "      <th>median_house_value</th>\n",
       "    </tr>\n",
       "  </thead>\n",
       "  <tbody>\n",
       "    <tr>\n",
       "      <th>0</th>\n",
       "      <td>[-114.31]</td>\n",
       "      <td>[34.19]</td>\n",
       "      <td>[15.0]</td>\n",
       "      <td>[5612.0]</td>\n",
       "      <td>[1283.0]</td>\n",
       "      <td>[1015.0]</td>\n",
       "      <td>[472.0]</td>\n",
       "      <td>[1.4936]</td>\n",
       "      <td>66.9</td>\n",
       "    </tr>\n",
       "    <tr>\n",
       "      <th>1</th>\n",
       "      <td>[-114.47]</td>\n",
       "      <td>[34.4]</td>\n",
       "      <td>[19.0]</td>\n",
       "      <td>[7650.0]</td>\n",
       "      <td>[1901.0]</td>\n",
       "      <td>[1129.0]</td>\n",
       "      <td>[463.0]</td>\n",
       "      <td>[1.82]</td>\n",
       "      <td>80.1</td>\n",
       "    </tr>\n",
       "    <tr>\n",
       "      <th>2</th>\n",
       "      <td>[-114.56]</td>\n",
       "      <td>[33.69]</td>\n",
       "      <td>[17.0]</td>\n",
       "      <td>[720.0]</td>\n",
       "      <td>[174.0]</td>\n",
       "      <td>[333.0]</td>\n",
       "      <td>[117.0]</td>\n",
       "      <td>[1.6509]</td>\n",
       "      <td>85.7</td>\n",
       "    </tr>\n",
       "    <tr>\n",
       "      <th>3</th>\n",
       "      <td>[-114.57]</td>\n",
       "      <td>[33.64]</td>\n",
       "      <td>[14.0]</td>\n",
       "      <td>[1501.0]</td>\n",
       "      <td>[337.0]</td>\n",
       "      <td>[515.0]</td>\n",
       "      <td>[226.0]</td>\n",
       "      <td>[3.1917]</td>\n",
       "      <td>73.4</td>\n",
       "    </tr>\n",
       "    <tr>\n",
       "      <th>4</th>\n",
       "      <td>[-114.57]</td>\n",
       "      <td>[33.57]</td>\n",
       "      <td>[20.0]</td>\n",
       "      <td>[1454.0]</td>\n",
       "      <td>[326.0]</td>\n",
       "      <td>[624.0]</td>\n",
       "      <td>[262.0]</td>\n",
       "      <td>[1.925]</td>\n",
       "      <td>65.5</td>\n",
       "    </tr>\n",
       "  </tbody>\n",
       "</table>\n",
       "</div>"
      ],
      "text/plain": [
       "   longitude latitude housing_median_age total_rooms total_bedrooms  \\\n",
       "0  [-114.31]  [34.19]             [15.0]    [5612.0]       [1283.0]   \n",
       "1  [-114.47]   [34.4]             [19.0]    [7650.0]       [1901.0]   \n",
       "2  [-114.56]  [33.69]             [17.0]     [720.0]        [174.0]   \n",
       "3  [-114.57]  [33.64]             [14.0]    [1501.0]        [337.0]   \n",
       "4  [-114.57]  [33.57]             [20.0]    [1454.0]        [326.0]   \n",
       "\n",
       "  population households median_income  median_house_value  \n",
       "0   [1015.0]    [472.0]      [1.4936]                66.9  \n",
       "1   [1129.0]    [463.0]        [1.82]                80.1  \n",
       "2    [333.0]    [117.0]      [1.6509]                85.7  \n",
       "3    [515.0]    [226.0]      [3.1917]                73.4  \n",
       "4    [624.0]    [262.0]       [1.925]                65.5  "
      ]
     },
     "execution_count": 28,
     "metadata": {},
     "output_type": "execute_result"
    }
   ],
   "source": [
    "columns = cf_housing_df.columns.tolist()[:-1]\n",
    "\n",
    "for column in columns:\n",
    "    cf_housing_df[column] = cf_housing_df[column].apply(lambda row: [row])\n",
    "    \n",
    "cf_housing_df.head()"
   ]
  },
  {
   "cell_type": "code",
   "execution_count": 29,
   "metadata": {},
   "outputs": [],
   "source": [
    "train_x, train_y = cf_housing_df[:12000], cf_housing_df['median_house_value'][:12000]\n",
    "test_x, test_y = cf_housing_df[12000:], cf_housing_df['median_house_value'][12000:]\n",
    "train_y, test_y = train_y.values.reshape(-1, 1), test_y.values.reshape(-1, 1)"
   ]
  },
  {
   "cell_type": "code",
   "execution_count": 30,
   "metadata": {},
   "outputs": [],
   "source": [
    "def get_quantile_based_boundaries(feature_values, num_buckets):\n",
    "    boundaries = np.arange(1.0, num_buckets) / num_buckets\n",
    "    quantiles = feature_values.quantile(boundaries)\n",
    "    return [quantiles[q] for q in quantiles.keys()]"
   ]
  },
  {
   "cell_type": "code",
   "execution_count": 31,
   "metadata": {},
   "outputs": [],
   "source": [
    "longitude = tf.feature_column.numeric_column(\"longitude\")\n",
    "latitude = tf.feature_column.numeric_column(\"latitude\")\n",
    "housing_median_age = tf.feature_column.numeric_column(\"housing_median_age\")\n",
    "households = tf.feature_column.numeric_column(\"households\")\n",
    "median_income = tf.feature_column.numeric_column(\"median_income\")\n",
    "\n",
    "\n",
    "# Divide longitude into 10 buckets.\n",
    "bucketized_longitude = tf.feature_column.bucketized_column(\n",
    "    longitude, boundaries=get_quantile_based_boundaries(\n",
    "      train_x[\"longitude\"].apply(lambda x: x[0]), 10))\n",
    "\n",
    "# Divide latitude into 10 buckets.\n",
    "bucketized_latitude = tf.feature_column.bucketized_column(\n",
    "    latitude, boundaries=get_quantile_based_boundaries(\n",
    "      train_x[\"latitude\"].apply(lambda x: x[0]), 10))\n",
    "\n",
    "# Divide housing_median_age into 7 buckets.\n",
    "bucketized_housing_median_age = tf.feature_column.bucketized_column(\n",
    "    housing_median_age, boundaries=get_quantile_based_boundaries(\n",
    "      train_x[\"housing_median_age\"].apply(lambda x: x[0]), 7))\n",
    "\n",
    "# Divide households into 7 buckets.\n",
    "bucketized_households = tf.feature_column.bucketized_column(\n",
    "    households, boundaries=get_quantile_based_boundaries(\n",
    "      train_x[\"households\"].apply(lambda x: x[0]), 7))\n",
    "\n",
    "# Divide median_income into 7 buckets.\n",
    "bucketized_median_income = tf.feature_column.bucketized_column(\n",
    "    median_income, boundaries=get_quantile_based_boundaries(\n",
    "      train_x[\"median_income\"].apply(lambda x: x[0]), 7))\n",
    "\n",
    "# Feature Cross: longitude x latitude\n",
    "long_x_lat = tf.feature_column.crossed_column(\n",
    "    set([bucketized_longitude, bucketized_latitude]), hash_bucket_size=10*10)\n",
    "\n",
    "# crossed feature -> one-hot(indicator column)\n",
    "embed_long_x_lat = tf.feature_column.embedding_column(\n",
    "    long_x_lat, 32)"
   ]
  },
  {
   "cell_type": "code",
   "execution_count": 32,
   "metadata": {},
   "outputs": [],
   "source": [
    "features = {\n",
    "    'longitude': train_x['longitude'].tolist(),\n",
    "    'latitude': train_x['latitude'].tolist(),\n",
    "    'housing_median_age': train_x['housing_median_age'].tolist(),\n",
    "    'households': train_x['households'].tolist(),\n",
    "    'median_income': train_x['median_income'].tolist() \n",
    "}\n",
    "\n",
    "feature_columns = set([\n",
    "    bucketized_longitude,  # 10\n",
    "    bucketized_latitude,  # 10\n",
    "    bucketized_housing_median_age,  # 7\n",
    "    bucketized_households,  # 7\n",
    "    bucketized_median_income])  # 7 total: 41\n",
    "\n",
    "# embedding column\n",
    "features_emb = {\n",
    "    'longitude': train_x['longitude'].tolist(),\n",
    "    'latitude': train_x['latitude'].tolist()\n",
    "}\n",
    "\n",
    "feature_columns_emb = [\n",
    "    embed_long_x_lat\n",
    "]"
   ]
  },
  {
   "cell_type": "code",
   "execution_count": 33,
   "metadata": {},
   "outputs": [],
   "source": [
    "inputs = tf.feature_column.input_layer(\n",
    "    features=features,\n",
    "    feature_columns=feature_columns)\n",
    "\n",
    "inputs_emb = tf.feature_column.input_layer(\n",
    "    features=features_emb,\n",
    "    feature_columns=feature_columns_emb)\n",
    "\n",
    "labels = tf.placeholder(tf.float32, [12000, 1])"
   ]
  },
  {
   "cell_type": "code",
   "execution_count": 34,
   "metadata": {},
   "outputs": [],
   "source": [
    "W = tf.Variable(\n",
    "        tf.truncated_normal([41, 1], stddev=0.1))\n",
    "b = tf.Variable(tf.zeros([1]))\n",
    "\n",
    "W_emb = tf.Variable(\n",
    "            tf.truncated_normal([32, 1], stddev=0.1))\n",
    "b_emb = tf.Variable(tf.zeros([1]))\n",
    "\n",
    "predictions = (tf.matmul(inputs, W) + b) + (tf.matmul(inputs_emb, W_emb) + b_emb)\n",
    "\n",
    "# predictions = tf.layers.dense(inputs, 1, \n",
    "#                              kernel_initializer=tf.truncated_normal_initializer(stddev=0.1))\n",
    "\n",
    "# loss & optimizer\n",
    "rmse = tf.sqrt(\n",
    "        tf.losses.mean_squared_error(labels=labels, predictions=predictions))\n",
    "train_op = tf.train.GradientDescentOptimizer(learning_rate=1.0).minimize(rmse)"
   ]
  },
  {
   "cell_type": "code",
   "execution_count": 35,
   "metadata": {},
   "outputs": [
    {
     "name": "stdout",
     "output_type": "stream",
     "text": [
      "Epoch: 030, RMSE: 115.3691\n",
      "Epoch: 060, RMSE: 83.3975\n",
      "Epoch: 090, RMSE: 81.2736\n",
      "Epoch: 120, RMSE: 79.7571\n",
      "Epoch: 150, RMSE: 78.4202\n",
      "Epoch: 180, RMSE: 77.2000\n",
      "Epoch: 210, RMSE: 76.0732\n",
      "Epoch: 240, RMSE: 75.0282\n",
      "Epoch: 270, RMSE: 74.0577\n",
      "Epoch: 300, RMSE: 73.1566\n"
     ]
    }
   ],
   "source": [
    "num_epoch = 300\n",
    "\n",
    "with tf.Session() as sess:\n",
    "    sess.run(tf.global_variables_initializer())\n",
    "    \n",
    "    for epoch in range(num_epoch):\n",
    "        loss, _ = sess.run([rmse, train_op], feed_dict={labels: train_y})\n",
    "        \n",
    "        if (epoch+1) % 30 == 0:\n",
    "            print('Epoch: {:03d}, RMSE: {:.4f}'.format(epoch+1, loss))\n",
    "            \n",
    "    weights = W.eval()\n",
    "    bias = b.eval()"
   ]
  },
  {
   "cell_type": "code",
   "execution_count": 36,
   "metadata": {},
   "outputs": [
    {
     "data": {
      "text/plain": [
       "(41, 1)"
      ]
     },
     "execution_count": 36,
     "metadata": {},
     "output_type": "execute_result"
    }
   ],
   "source": [
    "weights.shape"
   ]
  },
  {
   "cell_type": "code",
   "execution_count": 37,
   "metadata": {},
   "outputs": [
    {
     "data": {
      "text/plain": [
       "array([25.55541], dtype=float32)"
      ]
     },
     "execution_count": 37,
     "metadata": {},
     "output_type": "execute_result"
    }
   ],
   "source": [
    "bias"
   ]
  },
  {
   "cell_type": "code",
   "execution_count": 39,
   "metadata": {},
   "outputs": [
    {
     "name": "stdout",
     "output_type": "stream",
     "text": [
      "[[-0.21446897  0.13240804 -0.01478696 ...  0.0242057   0.11872536\n",
      "  -0.1384667 ]\n",
      " [ 0.11912717  0.28215304 -0.13007393 ...  0.23899429  0.03874798\n",
      "  -0.01086585]\n",
      " [-0.03113198  0.2635985  -0.08466335 ... -0.22871529  0.11032477\n",
      "  -0.00480296]\n",
      " ...\n",
      " [ 0.26749125 -0.06571634  0.04438065 ... -0.2642599   0.07323352\n",
      "   0.19872226]\n",
      " [ 0.26749125 -0.06571634  0.04438065 ... -0.2642599   0.07323352\n",
      "   0.19872226]\n",
      " [ 0.26749125 -0.06571634  0.04438065 ... -0.2642599   0.07323352\n",
      "   0.19872226]]\n"
     ]
    }
   ],
   "source": [
    "with tf.Session() as sess:\n",
    "    tf.global_variables_initializer().run()\n",
    "    print(inputs_emb.eval())"
   ]
  },
  {
   "cell_type": "code",
   "execution_count": null,
   "metadata": {},
   "outputs": [],
   "source": []
  }
 ],
 "metadata": {
  "kernelspec": {
   "display_name": "tensorflow",
   "language": "python",
   "name": "tensorflow"
  },
  "language_info": {
   "codemirror_mode": {
    "name": "ipython",
    "version": 3
   },
   "file_extension": ".py",
   "mimetype": "text/x-python",
   "name": "python",
   "nbconvert_exporter": "python",
   "pygments_lexer": "ipython3",
   "version": "3.6.6"
  }
 },
 "nbformat": 4,
 "nbformat_minor": 2
}
