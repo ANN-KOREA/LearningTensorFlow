{
 "cells": [
  {
   "cell_type": "markdown",
   "metadata": {},
   "source": [
    "# Chap07.1 - 텐서플로 추상화와 간소화, Estimator\n",
    "\n",
    "> 추상화가 무엇이며 왜 유용한지 알아보고 텐서플로(TensorFlow)의 몇몇 대중적인 추상화 라이브러리를 간단하게 살펴보도록 하자."
   ]
  },
  {
   "cell_type": "markdown",
   "metadata": {},
   "source": [
    "## 7.1 개요\n",
    "\n",
    "**추상화(abstraction)**이란 코드를 특정한 목적으로 일반화하여 기존 코드 **'위에 올라가는'** 코드의 계층을 의미한다. 관련있는 High-Level 기능을 묶는 방식의 재구성을 통해 코드를 감싸서 추상화한다. 따라서 쉽게 코딩할 수 있고, 가독성이 좋으며, 코드가 간소화된다."
   ]
  },
  {
   "cell_type": "markdown",
   "metadata": {},
   "source": [
    " "
   ]
  },
  {
   "cell_type": "markdown",
   "metadata": {},
   "source": [
    "### 7.1.1 추상화 라이브러리 둘러보기\n",
    "\n",
    "텐서플로(TensorFlow)에서 사용할 수 있는 인기있는 추상화 라이브러리는 다음과 같다고 한다.\n",
    "\n",
    "- `tf.estimator`\n",
    "- TFLearn\n",
    "- TF-Slim\n",
    "- Keras\n",
    "\n",
    "TFLearn은 별도의 설치가 필요하며 `tf.estimator`과 TF-Slim([`tf.contrib.slim`](https://github.com/tensorflow/tensorflow/tree/r1.8/tensorflow/contrib/slim))은 텐서플로에 포함되어 있다. Keras(케라스)는 2017년 구글의 공식 후원을 받아 1.1버전 부터 `tf.contrib.keras`안에 들어왔으며, 현재 이글을 작성하는 시점인 2018.06.27의 1.8버전에는 `tf.keras`로 변경됭 텐서플로의 한 부분으로 자리를 잡았다. `contrib`안의 라이브러리들은 **기부된(contributed)** 것을 의미하며 정식으로 반영되기 전까지 테스트가 더 필요하다는 것을 의미한다. \n",
    "\n",
    "`tf.estimator`은 Python의 대표적인 머신러닝 모듈인 [Scikit-Learn](http://scikit-learn.org/stable/index.html)(`sklearn`)의 스타일처럼 복잡한 딥러닝 모델을 쉽게 작성할 수 있도록 해주는 라이브러리다. Keras와 마찬가지로 [`tf.contrib.learn`](https://github.com/tensorflow/tensorflow/tree/r1.8/tensorflow/contrib/learn)으로 텐서플로에 들어왔으며, 현재 1.8버전(2018.06.27)에는 `tf.estimator`로 옮겨졌으며 `tf.contrib.learn`은 유지되고 있지만 사용할 경우 `deprecated` 경고가 나타난다.\n",
    "\n",
    "TF-Slim은 주로 복잡한 합성곱 신경망(Convolutional Networks)을 쉽게 설계할 수 있도록 만들어졌으며 다양한 Pre-Trained 모델을 제공해 학습 시간을 단축시킬 수 있다. "
   ]
  },
  {
   "cell_type": "markdown",
   "metadata": {},
   "source": [
    " "
   ]
  },
  {
   "cell_type": "markdown",
   "metadata": {},
   "source": [
    "## 7.2 tf.estimator\n",
    "\n",
    "`tf.estimator`는 `sklearn`과 유사하게 `Estimator`(모델들을 부르는 용어)로 동작하는데 이것을 이용하면, 빠르게 모델을 학습할 수 있다. 대표적인 Estimator들은 아래와 같으며, [`tf.estimator`](https://www.tensorflow.org/api_docs/python/tf/estimator)에서 다양한 Estimator들을 살펴볼 수 있다.\n",
    "\n",
    "| Estimator                                                    | 설명                                                         |\n",
    "| ------------------------------------------------------------ | ------------------------------------------------------------ |\n",
    "| [`LinearRegressor()`](https://www.tensorflow.org/api_docs/python/tf/estimator/LinearRegressor) | 주어진 관측치에 대해 Linear regression을 이용해 예측         |\n",
    "| [`LinearClassifier()`](https://www.tensorflow.org/api_docs/python/tf/estimator/LinearClassifier) | Linear Model을 이용한 다중분류(multi-classification), 클래스가 2개일 경우 binary classification |\n",
    "| [`DNNRegressor()`](https://www.tensorflow.org/api_docs/python/tf/estimator/DNNRegressor) | TensorFlow DNN 모델을 이용한 regression                      |\n",
    "| [`DNNClassifier()`](https://www.tensorflow.org/api_docs/python/tf/estimator/DNNClassifier) | TensorFlow DNN 모델을 이용한 classification                  |\n",
    "\n",
    "`tf.contrib.learn`에서 `tf.estimator`로 옮겨올때 아래의 `Estimator`는 반영이 되지 않았다.\n",
    "\n",
    "- `DynamicRnnEstimator`: Consider a custom `model_fn`.\n",
    "- `KMeansClustering`: Use `tf.contrib.factorization.KMeansClustering`.\n",
    "- `LogisticRegressor`: Not supported. Instead, use `binary_classification_head` with a custom `model_fn`, or with `DNNEstimator`.\n",
    "- `StateSavingRnnEstimator`: Consider a custom `model_fn`.\n",
    "- SVM: Consider a custom `model_fn`.\n",
    "- `LinearComposableModel` and `DNNComposableModel`: Not supported. Consider `tf.contrib.estimator.DNNEstimator`, or write a custom model_fn.\n",
    "- `MetricSpec`: Deprecated. For adding custom metrics to canned Estimators, use `tf.contrib.estimator.add_metrics`."
   ]
  },
  {
   "cell_type": "markdown",
   "metadata": {},
   "source": [
    "위의 Estimator를 사용하는 방법은 다음과 같다.\n",
    "\n",
    "1. 클래스 **인스턴스화**(instance)\n",
    "    - `model = tf.estimator.<some_Estimator>()`\n",
    "2. 학습 데이터를 사용해 모델을 **학습** \n",
    "    - `model.train()`\n",
    "3. 학습된 모델을 **평가**(evaluate)\n",
    "    - `model.evaluate()`\n",
    "4. 테스트 데이터를 이용해 결과를 **예측**(predict)\n",
    "    - `model.predict()`"
   ]
  },
  {
   "cell_type": "markdown",
   "metadata": {},
   "source": [
    " "
   ]
  },
  {
   "cell_type": "markdown",
   "metadata": {},
   "source": [
    "### 7.2.1 선형회귀 - Linear Regression\n",
    "\n",
    "선형회귀(linear regression)은 데이터 집합 $\\left\\{ y_i, x_{i1}, \\dots , x_{ip} \\right\\}_{i=1}^{n}$ 에 대해, 종속변수 $y_i$와 $p$개의 설명변수 $x_i$ 사이의 선형 관계를 모델링한다(출처: [wikipedia](https://ko.wikipedia.org/wiki/%EC%84%A0%ED%98%95_%ED%9A%8C%EA%B7%80)).\n",
    "\n",
    "$$\n",
    "y_i = w_1 x_{i1} + \\cdots + w_{p} x_{ip} + \\epsilon_i = \\mathbf{x}_{i}^{T} \\mathbf{W} + \\epsilon_i, \\quad i = 1, \\dots , n\n",
    "$$\n",
    "\n",
    "위의 선형회귀 모델을 Scikit-Learn(사이킷런)에서 제공하는 [보스턴 하우징(Boston Housing)](http://scikit-learn.org/stable/modules/generated/sklearn.datasets.load_boston.html)데이터에 적용해보도록 하자. 먼저 추상화 라이브러리를 사용하지 않은 텐서플로(TensorFlow)코드를 구현한 뒤, 이것을 `tf.estimator.LiearRegressor()`를 이용해 구현해 볼 것이다.\n",
    "\n",
    "보스턴 하우징 데이터 설명은 다음과 같다. 종속변수(타겟변수)는 소유자가 거주 중인 주택 가격의 중간값(median)이다.\n",
    "\n",
    "|      | Feature | 설명                                                      |\n",
    "| ---- | ------- | --------------------------------------------------------- |\n",
    "| 1    | CRIM    | 마을의 1인당 범죄율                                       |\n",
    "| 2    | ZN      | 2만 5천 평방 피트 이상으로 구획된 택지의 비율             |\n",
    "| 3    | INDUS   | 마을당 비상업 업무 지구의 비율                            |\n",
    "| 4    | CHAS    | 찰스강 더미 변수 (인접: 1, 아니면: 0)                     |\n",
    "| 5    | NOX     | 질소산화물 농도                                           |\n",
    "| 6    | RM      | 주택당 평균 방의 수                                       |\n",
    "| 7    | AGE     | 1940년 이전에 지어진 건물의 비율                          |\n",
    "| 8    | DIS     | 5개의 보스턴 고용 센터까지의 가중 거리                    |\n",
    "| 9    | RAD     | 방사형 고속도로까지의 접근성 지수                         |\n",
    "| 10   | TAX     | 1만 달러당 부가가치세                                     |\n",
    "| 11   | PTRATIO | 마을별 학생 대 교사 비율                                  |\n",
    "| 12   | B       | $1000(\\text{Bk}-0.63)^{2}$, $\\text{Bk}$: 마을의 흑인 비율 |\n",
    "| 13   | LSTAT   | 하위 계층의 비율(%)                                       |"
   ]
  },
  {
   "cell_type": "markdown",
   "metadata": {},
   "source": [
    "먼저 Scikit-Learn에서 보스턴 하우징 데이터를 불러온다. 설명변수로 쓰일 데이터들을 [`StandardScaler()`](http://scikit-learn.org/stable/modules/generated/sklearn.preprocessing.StandardScaler.html)를 이용해 정규화 해준다. `StandardScaler`의 수식은 다음과 같으며 *Z-Score*라고도 한다.\n",
    "\n",
    "$$\n",
    "z = \\frac{\\text{Data point} - \\text{mean}}{\\text{standard deviation}} = \\frac{x-\\mu}{\\sigma}\n",
    "$$"
   ]
  },
  {
   "cell_type": "code",
   "execution_count": 1,
   "metadata": {},
   "outputs": [
    {
     "name": "stdout",
     "output_type": "stream",
     "text": [
      "x_data.shape : (506, 13)\n",
      "y_data.shape : (506,)\n"
     ]
    }
   ],
   "source": [
    "from sklearn import datasets, metrics, preprocessing\n",
    "\n",
    "boston = datasets.load_boston()\n",
    "x_data = preprocessing.StandardScaler().fit_transform(boston.data)\n",
    "y_data = boston.target\n",
    "\n",
    "print('x_data.shape :', x_data.shape)\n",
    "print('y_data.shape :', y_data.shape)"
   ]
  },
  {
   "cell_type": "markdown",
   "metadata": {},
   "source": [
    " "
   ]
  },
  {
   "cell_type": "markdown",
   "metadata": {},
   "source": [
    "#### Natvie TensorFlow\n",
    "\n",
    "먼저 추상화 라이브러리를 사용하지 않고, 순수 텐서플로를 이용해 선형회귀를 모델링 해보도록 하자. "
   ]
  },
  {
   "cell_type": "code",
   "execution_count": 2,
   "metadata": {},
   "outputs": [],
   "source": [
    "import tensorflow as tf"
   ]
  },
  {
   "cell_type": "code",
   "execution_count": 3,
   "metadata": {},
   "outputs": [
    {
     "name": "stdout",
     "output_type": "stream",
     "text": [
      "Step: 40\t MSE: 22.30192\n",
      "Step: 80\t MSE: 22.00200\n",
      "Step: 120\t MSE: 21.93284\n",
      "Step: 160\t MSE: 21.91024\n",
      "Step: 200\t MSE: 21.90225\n"
     ]
    }
   ],
   "source": [
    "x = tf.placeholder(tf.float64, shape=(None, 13))\n",
    "y_true = tf.placeholder(tf.float64, shape=(None))\n",
    "\n",
    "with tf.name_scope('inference'):\n",
    "    w = tf.Variable(tf.zeros([1, 13], dtype=tf.float64, name='weights'))\n",
    "    b = tf.Variable(0, dtype=tf.float64, name='bias')\n",
    "    y_pred = tf.matmul(w, tf.transpose(x)) + b\n",
    "    \n",
    "with tf.name_scope('loss'):\n",
    "    loss = tf.reduce_mean(tf.square(y_true-y_pred))  # MSE\n",
    "    \n",
    "with tf.name_scope('train'):\n",
    "    learning_rate = 0.1\n",
    "    optimizer = tf.train.GradientDescentOptimizer(learning_rate)\n",
    "    train = optimizer.minimize(loss)\n",
    "    \n",
    "init = tf.global_variables_initializer()\n",
    "with tf.Session() as sess:\n",
    "    sess.run(init)\n",
    "    for step in range(200):\n",
    "        MSE, _ = sess.run([loss, train], feed_dict={x: x_data, \n",
    "                                                    y_true: y_data})\n",
    "    \n",
    "        if (step+1) % 40 == 0:\n",
    "            print('Step: {:2d}\\t MSE: {:.5f}'.format(step+1, MSE))"
   ]
  },
  {
   "cell_type": "markdown",
   "metadata": {},
   "source": [
    " "
   ]
  },
  {
   "cell_type": "markdown",
   "metadata": {},
   "source": [
    "#### tf.estimator\n",
    "\n",
    "이번에는 위와 똑같은 기능을 하는 코드를 `tf.estimator.LinearRegressor()`를 이용해 구현해 보도록 하자. 아래의 코드에서 확인할 수 있듯이 간단한 코드로 Linear Regression을 구현할 수 있다."
   ]
  },
  {
   "cell_type": "code",
   "execution_count": 4,
   "metadata": {},
   "outputs": [
    {
     "name": "stdout",
     "output_type": "stream",
     "text": [
      "INFO:tensorflow:Using default config.\n",
      "INFO:tensorflow:Using config: {'_model_dir': './model', '_tf_random_seed': None, '_save_summary_steps': 100, '_save_checkpoints_steps': None, '_save_checkpoints_secs': 600, '_session_config': None, '_keep_checkpoint_max': 5, '_keep_checkpoint_every_n_hours': 10000, '_log_step_count_steps': 100, '_train_distribute': None, '_service': None, '_cluster_spec': <tensorflow.python.training.server_lib.ClusterSpec object at 0x7f0c3d9cd908>, '_task_type': 'worker', '_task_id': 0, '_global_id_in_cluster': 0, '_master': '', '_evaluation_master': '', '_is_chief': True, '_num_ps_replicas': 0, '_num_worker_replicas': 1}\n",
      "INFO:tensorflow:Calling model_fn.\n",
      "INFO:tensorflow:Done calling model_fn.\n",
      "INFO:tensorflow:Create CheckpointSaverHook.\n",
      "INFO:tensorflow:Graph was finalized.\n",
      "INFO:tensorflow:Running local_init_op.\n",
      "INFO:tensorflow:Done running local_init_op.\n",
      "INFO:tensorflow:Saving checkpoints for 1 into ./model/model.ckpt.\n",
      "INFO:tensorflow:loss = 299626.34, step = 0\n",
      "INFO:tensorflow:Loss for final step: 299626.34.\n",
      "INFO:tensorflow:Calling model_fn.\n",
      "INFO:tensorflow:Done calling model_fn.\n",
      "INFO:tensorflow:Starting evaluation at 2018-06-27-10:02:49\n",
      "INFO:tensorflow:Graph was finalized.\n",
      "INFO:tensorflow:Restoring parameters from ./model/model.ckpt-1\n",
      "INFO:tensorflow:Running local_init_op.\n",
      "INFO:tensorflow:Done running local_init_op.\n",
      "INFO:tensorflow:Evaluation [1/1]\n",
      "INFO:tensorflow:Finished evaluation at 2018-06-27-10:02:49\n",
      "INFO:tensorflow:Saving dict for global step 1: average_loss = 879.69196, global_step = 1, loss = 445124.12\n",
      "{'average_loss': 879.69196, 'loss': 445124.12, 'global_step': 1}\n"
     ]
    }
   ],
   "source": [
    "NUM_STEPS = 200\n",
    "MINIBATCH_SIZE = 506\n",
    "\n",
    "feature_column = [tf.feature_column.numeric_column(key='x', shape=13)]\n",
    "train_input_fn = tf.estimator.inputs.numpy_input_fn(\n",
    "        {'x': x_data}, y_data, batch_size=MINIBATCH_SIZE, shuffle=False)\n",
    "eval_input_fn = tf.estimator.inputs.numpy_input_fn(\n",
    "        {'x': x_data}, y_data, batch_size=MINIBATCH_SIZE, shuffle=False)\n",
    "\n",
    "reg = tf.estimator.LinearRegressor(\n",
    "        feature_columns=feature_column,\n",
    "        optimizer=tf.train.GradientDescentOptimizer(learning_rate=0.001), \n",
    "        model_dir='./model/boston')\n",
    "\n",
    "reg.train(input_fn=train_input_fn, steps=NUM_STEPS)\n",
    "MSE = reg.evaluate(input_fn=eval_input_fn, steps=1)\n",
    "\n",
    "print(MSE)"
   ]
  },
  {
   "cell_type": "markdown",
   "metadata": {},
   "source": [
    "  "
   ]
  },
  {
   "cell_type": "markdown",
   "metadata": {},
   "source": [
    "### 7.2.2 DNN 분류기\n",
    "\n",
    "이번에는 [2.4 - Softmax Regression](http://excelsior-cjh.tistory.com/149?category=940399)에서 구현한 MNIST 분류기를 `tf.estimator.DNNClassifier()`를 이용해 구현해보도록 하자."
   ]
  },
  {
   "cell_type": "code",
   "execution_count": 5,
   "metadata": {},
   "outputs": [],
   "source": [
    "import sys\n",
    "import numpy as np\n",
    "import tensorflow as tf\n",
    "\n",
    "\n",
    "# MNIST 데이터 불러오기 위한 함수 정의\n",
    "def mnist_load():\n",
    "    (train_x, train_y), (test_x, test_y) = tf.keras.datasets.mnist.load_data()\n",
    "\n",
    "    # Train set\n",
    "    train_x = train_x.astype('float32') / 255.\n",
    "    train_y = train_y.astype('int32')\n",
    "    # Test set\n",
    "    test_x = test_x.astype('float32') / 255.\n",
    "    test_y = test_y.astype('int32')\n",
    "    return (train_x, train_y), (test_x, test_y)\n",
    "\n",
    "# MNIST 데이터 불러오기\n",
    "(train_x, train_y), (test_x, test_y) = mnist_load()\n",
    "\n",
    "# Define train_input_fn\n",
    "train_input_fn = tf.estimator.inputs.numpy_input_fn(\n",
    "    x={'x': train_x}, y=train_y, shuffle=True, batch_size=MINIBATCH_SIZE\n",
    ")"
   ]
  },
  {
   "cell_type": "code",
   "execution_count": 7,
   "metadata": {},
   "outputs": [
    {
     "name": "stdout",
     "output_type": "stream",
     "text": [
      "INFO:tensorflow:Using default config.\n",
      "INFO:tensorflow:Using config: {'_model_dir': './model', '_tf_random_seed': None, '_save_summary_steps': 100, '_save_checkpoints_steps': None, '_save_checkpoints_secs': 600, '_session_config': None, '_keep_checkpoint_max': 5, '_keep_checkpoint_every_n_hours': 10000, '_log_step_count_steps': 100, '_train_distribute': None, '_service': None, '_cluster_spec': <tensorflow.python.training.server_lib.ClusterSpec object at 0x7f0bca1f3908>, '_task_type': 'worker', '_task_id': 0, '_global_id_in_cluster': 0, '_master': '', '_evaluation_master': '', '_is_chief': True, '_num_ps_replicas': 0, '_num_worker_replicas': 1}\n",
      "INFO:tensorflow:Calling model_fn.\n",
      "INFO:tensorflow:Done calling model_fn.\n",
      "INFO:tensorflow:Create CheckpointSaverHook.\n",
      "INFO:tensorflow:Graph was finalized.\n",
      "INFO:tensorflow:Running local_init_op.\n",
      "INFO:tensorflow:Done running local_init_op.\n",
      "INFO:tensorflow:Saving checkpoints for 1 into ./model/model.ckpt.\n",
      "INFO:tensorflow:loss = 1178.339, step = 0\n",
      "INFO:tensorflow:global_step/sec: 298.774\n",
      "INFO:tensorflow:loss = 121.545364, step = 100 (0.336 sec)\n",
      "INFO:tensorflow:Saving checkpoints for 119 into ./model/model.ckpt.\n",
      "INFO:tensorflow:Loss for final step: 95.376915.\n"
     ]
    },
    {
     "data": {
      "text/plain": [
       "<tensorflow.python.estimator.canned.dnn.DNNClassifier at 0x7f0bca1f3780>"
      ]
     },
     "execution_count": 7,
     "metadata": {},
     "output_type": "execute_result"
    }
   ],
   "source": [
    "NUM_STEPS = 5000\n",
    "MINIBATCH_SIZ = 128\n",
    "\n",
    "feature_columns = [tf.feature_column.numeric_column('x', shape=[28, 28])]\n",
    "\n",
    "dnn = tf.estimator.DNNClassifier(\n",
    "    feature_columns=feature_columns,\n",
    "    hidden_units=[200],\n",
    "    n_classes=10,\n",
    "    optimizer=tf.train.ProximalAdagradOptimizer(learning_rate=0.2),\n",
    "    model_dir='./model/DNNClassifier'\n",
    ")\n",
    "\n",
    "dnn.train(\n",
    "    input_fn=train_input_fn,\n",
    "    steps=NUM_STEPS)"
   ]
  },
  {
   "cell_type": "code",
   "execution_count": 8,
   "metadata": {},
   "outputs": [
    {
     "name": "stdout",
     "output_type": "stream",
     "text": [
      "INFO:tensorflow:Calling model_fn.\n",
      "INFO:tensorflow:Done calling model_fn.\n",
      "INFO:tensorflow:Starting evaluation at 2018-06-27-10:03:23\n",
      "INFO:tensorflow:Graph was finalized.\n",
      "INFO:tensorflow:Restoring parameters from ./model/model.ckpt-119\n",
      "INFO:tensorflow:Running local_init_op.\n",
      "INFO:tensorflow:Done running local_init_op.\n",
      "INFO:tensorflow:Evaluation [1/1]\n",
      "INFO:tensorflow:Finished evaluation at 2018-06-27-10:03:23\n",
      "INFO:tensorflow:Saving dict for global step 119: accuracy = 0.9453125, average_loss = 0.2138238, global_step = 119, loss = 27.369446\n",
      "test accuracy: 0.9453125\n"
     ]
    }
   ],
   "source": [
    "# Define eval_input_fn\n",
    "eval_input_fn = tf.estimator.inputs.numpy_input_fn(\n",
    "    x={'x': test_x}, y=test_y, shuffle=False\n",
    ")\n",
    "\n",
    "test_acc = dnn.evaluate(input_fn=eval_input_fn, steps=1)['accuracy']\n",
    "print('test accuracy: {}'.format(test_acc))"
   ]
  },
  {
   "cell_type": "markdown",
   "metadata": {},
   "source": [
    " "
   ]
  },
  {
   "cell_type": "markdown",
   "metadata": {},
   "source": [
    "### 7.2.3 tf.feature_column\n",
    "\n",
    "텐서플로는 [`tf.feature_column`](https://www.tensorflow.org/api_docs/python/tf/feature_column)를 통해 다양한 데이터의 특징(Feature)들을 처리해준다. 7.2.1과 7.2.2에서 `tf.estimator`를 이용해 Estimator를 만들어줄때 [`tf.feature_column.numeric_column()`](https://www.tensorflow.org/api_docs/python/tf/feature_column/numeric_column)를 이용해서 데이터의 특징(feature)을 정의해줬다. \n",
    "\n",
    "이렇듯 수치형 데이터도 있지만, 실제 세계에서는 아래의 예시(출처: [TensorFlow.org](https://www.tensorflow.org/get_started/feature_columns))와 같이 수치형 데이터 뿐만 아니라 다양한 특징(특성)들을 가지는 데이터들이 존재한다.\n",
    "\n",
    "![](./images/feature_cloud.jpg)\n",
    "\n",
    "`tf.feature_column`이 제공하는 특징 처리 중 몇가지 예로는 범주형(categorical) 데이터를 희소 벡터, 즉 one-hot 인코딩(또는 **더미 인코딩**, dummy encoding)해주며, 또는 수치형 데이터를 구간별로 버킷화(bucketize)한 뒤 더미 인코딩 해준다. 이 외에도 다양한 특징들을 처리해주는데 자세한 내용은 [TensorFlow.org](https://www.tensorflow.org/get_started/feature_columns)에서 확인할 수 있다.\n",
    "\n",
    "`tf.feature_column`은 크게 `CategoricalColumn`과 `DenseColumn`으로 이루어져 있으며 이 둘을 동시에 상속받는 `bucketized_column`이 있다.(출처: [TensorFlow.org](https://www.tensorflow.org/get_started/feature_columns))\n",
    "\n",
    "![](./images/some_constructors.jpg)"
   ]
  },
  {
   "cell_type": "markdown",
   "metadata": {},
   "source": [
    " "
   ]
  },
  {
   "cell_type": "markdown",
   "metadata": {},
   "source": [
    "그렇다면, 이러한 `tf.feature_column`을 어떻게 사용하는지 간단한 샘플 데이터로 사용법을 알아보도록 하자.\n",
    "\n",
    "예를 들어, 무게(weight)와 종족(species) 두 개의 특징(feature)으로 타겟변수인 키(height)를 `tf.estimator.LinearRegressor()`를 이용해 예측한다고 가정해보자. 각 무게를 100으로 나누고 종(species)에 따른 상수(`Human=1, Goblin=0.98, ManBear=1.1`) 을 추가해 샘플 데이터를 아래의 코드와 같이 만들어준다."
   ]
  },
  {
   "cell_type": "code",
   "execution_count": 1,
   "metadata": {},
   "outputs": [],
   "source": [
    "# Generate example categorical data\n",
    "import numpy as np\n",
    "import pandas as pd\n",
    "\n",
    "N = 10000\n",
    "weight = np.random.randn(N)*5 + 70\n",
    "spec_id = np.random.randint(0, 3, N)\n",
    "bias = [0.9, 1, 1.1]\n",
    "height = np.array([weight[i]/100 + bias[b] for i, b in enumerate(spec_id)])\n",
    "spec_name = ['Goblin', 'Human', 'ManBears']\n",
    "spec = [spec_name[s] for s in spec_id]"
   ]
  },
  {
   "cell_type": "markdown",
   "metadata": {},
   "source": [
    " "
   ]
  },
  {
   "cell_type": "markdown",
   "metadata": {},
   "source": [
    "생성한 예제 샘플 데이터를 `matplotlib`을 이용해 시각화 해보자."
   ]
  },
  {
   "cell_type": "code",
   "execution_count": 2,
   "metadata": {},
   "outputs": [
    {
     "data": {
      "image/png": "[encoded data removed]",
      "text/plain": [
       "<Figure size 504x216 with 2 Axes>"
      ]
     },
     "metadata": {},
     "output_type": "display_data"
    }
   ],
   "source": [
    "# plot and create data frame\n",
    "%matplotlib inline\n",
    "import matplotlib.pyplot as plt\n",
    "\n",
    "colors = ['r','b','g']\n",
    "f,axarr = plt.subplots(1,2,figsize = [7,3])\n",
    "ax = axarr[0]\n",
    "for ii in range(3):\n",
    "    ax.hist(height[spec_id == ii],50,color=colors[ii],alpha=0.5)\n",
    "    ax.set_xlabel('Height')\n",
    "    ax.set_ylabel('Frequency')\n",
    "    ax.set_title('Heights distribution')\n",
    "\n",
    "height = height + np.random.randn(N)*0.015\n",
    "ax.text(1.42,150,'Goblins')\n",
    "ax.text(1.63,210,'Humans')\n",
    "ax.text(1.85,150,'ManBears')\n",
    "\n",
    "ax.set_ylim([0,260])\n",
    "ax.set_xlim([1.38,2.05])\n",
    "\n",
    "df = pd.DataFrame({'Species':spec,'Weight':weight,'Height':height})\n",
    "\n",
    "ax = axarr[1]\n",
    "ax.plot(df['Height'],df['Weight'],'o',alpha=0.3,mfc='w',mec='b')\n",
    "ax.set_xlabel('Weight')\n",
    "ax.set_ylabel('Height')\n",
    "ax.set_title('Heights vs. Weights')\n",
    "    \n",
    "plt.tight_layout()\n",
    "plt.show()"
   ]
  },
  {
   "cell_type": "markdown",
   "metadata": {},
   "source": [
    " "
   ]
  },
  {
   "cell_type": "markdown",
   "metadata": {},
   "source": [
    "이제, `LinearRegressor()`의 입력(Input)으로 넣어주기 위해 `tf.feature_column`을 이용해 각 변수의 특성을 지정해준다. `Weight`는 몸무게이므로 연속형 변수임을 지정하는 `numeric_column()`을 사용한다. `Species`는 범주형(categorical) 변수이고, 값이 단어(vocabulary)로 구성되어 있으므로 `categorical_column_with_vocabulary_list()`를 사용해 특성을 지정해준다. 따라서, 변주형 변수인 `Species`는 아래의 그림처럼 데이터가 one-hot 벡터로 매핑된다.\n",
    "\n",
    "<img src=\"./images/cat-vocab.png\" height=\"70%\" width=\"70%\"/>\n",
    "\n",
    "이렇게 처리된 FeatureColumn들을 `LinearRegressor()`의 `feature_columns=`인자에 리스트 형태로 넣어준다.  "
   ]
  },
  {
   "cell_type": "code",
   "execution_count": 3,
   "metadata": {},
   "outputs": [
    {
     "name": "stdout",
     "output_type": "stream",
     "text": [
      "INFO:tensorflow:Using default config.\n",
      "INFO:tensorflow:Using config: {'_model_dir': './model', '_tf_random_seed': None, '_save_summary_steps': 100, '_save_checkpoints_steps': None, '_save_checkpoints_secs': 600, '_session_config': None, '_keep_checkpoint_max': 5, '_keep_checkpoint_every_n_hours': 10000, '_log_step_count_steps': 100, '_train_distribute': None, '_service': None, '_cluster_spec': <tensorflow.python.training.server_lib.ClusterSpec object at 0x00000293A1B74470>, '_task_type': 'worker', '_task_id': 0, '_global_id_in_cluster': 0, '_master': '', '_evaluation_master': '', '_is_chief': True, '_num_ps_replicas': 0, '_num_worker_replicas': 1}\n"
     ]
    }
   ],
   "source": [
    "import tensorflow as tf\n",
    "\n",
    "# Feature Columns\n",
    "Weight = tf.feature_column.numeric_column(key='Weight')\n",
    "Species = tf.feature_column.categorical_column_with_vocabulary_list(\n",
    "            key='Species',\n",
    "            vocabulary_list=['Goblin', 'Human', 'ManBears'])\n",
    "\n",
    "# LinearRegressor() Estimator\n",
    "reg = tf.estimator.LinearRegressor(feature_columns=[Weight, Species], \n",
    "                                   model_dir='./model/sample')"
   ]
  },
  {
   "cell_type": "markdown",
   "metadata": {},
   "source": [
    "  "
   ]
  },
  {
   "cell_type": "markdown",
   "metadata": {},
   "source": [
    "위에서 정의한 `LinearRegressor()`를 학습시킬때(`reg.train()`) `input_fn`인자에 학습에 사용할 데이터를 반환하는 캡슐화된 입력함수를 별도로 만들어줘야 한다. 아래의 코드에서 `input_fn`이 입력함수에 해당하며, `pandas`의 `DataFrame`을 입력으로 받아 텐서플로에서 사용가능한 텐서가 들어있는 `feature_cols` 딕셔너리와 `labels`을 반환한다.\n",
    "\n",
    "`feature_cols` 딕셔너리에서 `Species`의 값은 위에서 `tf.feature_column`을 이용해 **더미 인코딩**을 해주었으므로 이러한 형태를 담을 수 있는 [`tf.SparseTensor`](https://www.tensorflow.org/api_docs/python/tf/SparseTensor)를 사용한다. `tf.SparseTensor()`는 아래의 예제와 같이 텐서(tensor)의 인덱스에 해당하는 값을 매핑해준다.\n",
    "\n",
    "```python\n",
    "tf.SparseTensor(indices=[[0, 0], [1, 2]], values=[1, 2], dense_shape=[3, 4])\n",
    "# 결과\n",
    "[[1, 0, 0, 0]\n",
    " [0, 0, 2, 0]\n",
    " [0, 0, 0, 0]]\n",
    "```"
   ]
  },
  {
   "cell_type": "code",
   "execution_count": 19,
   "metadata": {},
   "outputs": [
    {
     "name": "stdout",
     "output_type": "stream",
     "text": [
      "INFO:tensorflow:Calling model_fn.\n",
      "INFO:tensorflow:Done calling model_fn.\n",
      "INFO:tensorflow:Create CheckpointSaverHook.\n",
      "INFO:tensorflow:Graph was finalized.\n",
      "INFO:tensorflow:Restoring parameters from ./model\\model.ckpt-2500\n",
      "INFO:tensorflow:Running local_init_op.\n",
      "INFO:tensorflow:Done running local_init_op.\n",
      "INFO:tensorflow:Saving checkpoints for 2501 into ./model\\model.ckpt.\n",
      "INFO:tensorflow:loss = 23.630287, step = 2501\n",
      "INFO:tensorflow:global_step/sec: 243.865\n",
      "INFO:tensorflow:loss = 22.982862, step = 2601 (0.411 sec)\n",
      "INFO:tensorflow:global_step/sec: 300.402\n",
      "INFO:tensorflow:loss = 22.355034, step = 2701 (0.333 sec)\n",
      "INFO:tensorflow:global_step/sec: 288.25\n",
      "INFO:tensorflow:loss = 21.746227, step = 2801 (0.347 sec)\n",
      "INFO:tensorflow:global_step/sec: 322.762\n",
      "INFO:tensorflow:loss = 21.15587, step = 2901 (0.310 sec)\n",
      "INFO:tensorflow:Saving checkpoints for 3000 into ./model\\model.ckpt.\n",
      "INFO:tensorflow:Loss for final step: 20.58902.\n"
     ]
    },
    {
     "data": {
      "text/plain": [
       "<tensorflow.python.estimator.canned.linear.LinearRegressor at 0x2939da47e80>"
      ]
     },
     "execution_count": 19,
     "metadata": {},
     "output_type": "execute_result"
    }
   ],
   "source": [
    "def input_fn(df):\n",
    "    feature_cols = {\n",
    "        'Weight': tf.constant(df['Weight'].values),\n",
    "        'Species': tf.SparseTensor(\n",
    "            indices=[[i, 0] for i in range(df['Species'].size)],\n",
    "            values=df['Species'].values,\n",
    "            dense_shape=[df['Species'].size, 1]\n",
    "        )\n",
    "    }\n",
    "    labels = tf.constant(df['Height'].values)\n",
    "    \n",
    "    return feature_cols, labels\n",
    "\n",
    "# Training\n",
    "reg.train(input_fn=lambda: input_fn(df), steps=500)"
   ]
  },
  {
   "cell_type": "markdown",
   "metadata": {},
   "source": [
    " "
   ]
  },
  {
   "cell_type": "markdown",
   "metadata": {},
   "source": [
    "학습이 끝난 후 추정된 가중치들을 `.get_variable_value()`메소드를 이용해 변수의 값을 확인할 수 있다. 변수의 값은 `.get_variable_names()`를 통해 구할 수 있다."
   ]
  },
  {
   "cell_type": "code",
   "execution_count": 33,
   "metadata": {},
   "outputs": [
    {
     "name": "stdout",
     "output_type": "stream",
     "text": [
      "variable names:\n",
      " ['global_step', 'linear/linear_model/Species/weights', 'linear/linear_model/Species/weights/part_0/Ftrl', 'linear/linear_model/Species/weights/part_0/Ftrl_1', 'linear/linear_model/Weight/weights', 'linear/linear_model/Weight/weights/part_0/Ftrl', 'linear/linear_model/Weight/weights/part_0/Ftrl_1', 'linear/linear_model/bias_weights', 'linear/linear_model/bias_weights/part_0/Ftrl', 'linear/linear_model/bias_weights/part_0/Ftrl_1']\n",
      "==================================================\n",
      "Estimation for Weight: [[0.01007662]]\n",
      "Estimation for Species:\n",
      "[[0.8940179]\n",
      " [0.9947232]\n",
      " [1.0953919]]\n"
     ]
    }
   ],
   "source": [
    "print('variable names:\\n', reg.get_variable_names())\n",
    "print('='*50)\n",
    "\n",
    "w_w = reg.get_variable_value('linear/linear_model/Weight/weights')\n",
    "s_w = reg.get_variable_value('linear/linear_model/Species/weights')\n",
    "b = reg.get_variable_value('linear/linear_model/bias_weights')\n",
    "print('Estimation for Weight: {}'.format(w_w))\n",
    "print('Estimation for Species:\\n{}'.format(s_w + b))"
   ]
  },
  {
   "cell_type": "markdown",
   "metadata": {},
   "source": [
    " "
   ]
  },
  {
   "cell_type": "markdown",
   "metadata": {},
   "source": [
    "### 7.2.4 tf.estimator로 사용자 정의 CNN 만들어보기\n",
    "\n",
    "이번에는 `tf.estimator`를 사용해 자신만의 Estimator를 만들어 보자. 아래의 예제 코드는 [4장-합성곱 신경망 CNN](http://excelsior-cjh.tistory.com/152?category=940399)에서와 마찬가지로 MNIST 데이터 분류를 `tf.estimator`를 이용해 구현해 보도록한다.\n",
    "먼저 네트워크를 구현하는 모델 함수(`cnn_model_fn`)와 학습 설정(`model_params`)을 포함한 객체를 만들어줘야 한다. 아래의 코드는 [TensorFlow.org](https://www.tensorflow.org/tutorials/layers)의 Tutorials를 참고하여 구현하였다."
   ]
  },
  {
   "cell_type": "code",
   "execution_count": 87,
   "metadata": {},
   "outputs": [],
   "source": [
    "# model_params\n",
    "model_params = {\"learning_rate\": 1e-4, \"dropout\": 0.5}\n",
    "\n",
    "# Generate model_fn\n",
    "def cnn_model_fn(features, labels, mode, params):\n",
    "    # Input Layer\n",
    "    x_image = tf.reshape(features['x'], [-1, 28, 28, 1])  # (N, H, W, C)\n",
    "    \n",
    "    # Conv layer 1\n",
    "    conv1 = tf.layers.conv2d(x_image, 32, [5,5],\n",
    "                             padding='same',\n",
    "                             activation=tf.nn.relu,\n",
    "                             kernel_initializer=tf.truncated_normal_initializer(stddev=0.1),\n",
    "                             bias_initializer=tf.constant_initializer(0.1))\n",
    "    pool1 = tf.layers.max_pooling2d(conv1, pool_size=[2,2], strides=2)\n",
    "    \n",
    "    # Conv layer 2\n",
    "    conv2 = tf.layers.conv2d(pool1, 64, [5,5],\n",
    "                             activation=tf.nn.relu,\n",
    "                             padding='same',\n",
    "                             kernel_initializer=tf.truncated_normal_initializer(stddev=0.1),\n",
    "                             bias_initializer=tf.constant_initializer(0.1))\n",
    "    pool2 = tf.layers.max_pooling2d(conv2, pool_size=[2,2], strides=2)\n",
    "    \n",
    "    # Fully-Connected layer\n",
    "    pool2_flat = tf.reshape(pool2, [-1, 7*7*64])\n",
    "    dense = tf.layers.dense(pool2_flat, 1024,\n",
    "                          activation=tf.nn.relu,\n",
    "                          kernel_initializer=tf.truncated_normal_initializer(stddev=0.1),\n",
    "                          bias_initializer=tf.constant_initializer(0.1))\n",
    "    dropout = tf.layers.dropout(dense, \n",
    "                                rate=params['dropout'],  # rate: dropout 시킬 비율\n",
    "                                training=mode == tf.estimator.ModeKeys.TRAIN)\n",
    "    \n",
    "    # Logits layer\n",
    "    logits = tf.layers.dense(dropout, 10, activation=None)\n",
    "    \n",
    "     # prediction\n",
    "    predictions = {\n",
    "        # Generate predictions (for PREDICT and EVAL mode)\n",
    "        \"classes\": tf.argmax(input=logits, axis=1)\n",
    "    }\n",
    "    \n",
    "    if mode == tf.estimator.ModeKeys.PREDICT:\n",
    "        return tf.estimator.EstimatorSpec(mode=mode, predictions=predictions)\n",
    "    \n",
    "    # loss (for both TRAIN and EVAL modes)\n",
    "    loss = tf.losses.sparse_softmax_cross_entropy(logits=logits, labels=labels)\n",
    "    \n",
    "    # Configure the Training Op (for TRIAIN mode)\n",
    "    if mode == tf.estimator.ModeKeys.TRAIN:\n",
    "        optimizer = tf.train.AdamOptimizer(learning_rate=params['learning_rate'])\n",
    "        train_op = optimizer.minimize(loss=loss,\n",
    "                                      global_step=tf.train.get_global_step())\n",
    "        return tf.estimator.EstimatorSpec(mode=mode, loss=loss, train_op=train_op)\n",
    "    \n",
    "    # Add evaluation metrics (for EVAL mode)\n",
    "    eval_metric_ops = {\n",
    "        \"accuracy\": tf.metrics.accuracy(labels=labels, \n",
    "                                        predictions=predictions['classes'])}\n",
    "    return tf.estimator.EstimatorSpec(mode=mode, loss=loss, \n",
    "                                      eval_metric_ops=eval_metric_ops)"
   ]
  },
  {
   "cell_type": "markdown",
   "metadata": {},
   "source": [
    " "
   ]
  },
  {
   "cell_type": "markdown",
   "metadata": {},
   "source": [
    "아래의 코드는 MNIST 데이터를 불러오기 위한 `mnist_load()`함수를 정의해주고 MNIST 데이터를 불러오는 코드이다."
   ]
  },
  {
   "cell_type": "code",
   "execution_count": 88,
   "metadata": {},
   "outputs": [],
   "source": [
    "# MNIST 데이터 불러오기 위한 함수 정의\n",
    "def mnist_load():\n",
    "    (train_x, train_y), (test_x, test_y) = tf.keras.datasets.mnist.load_data()\n",
    "\n",
    "    # Train set\n",
    "    train_x = train_x.astype('float32') / 255.\n",
    "    train_y = train_y.astype('int32')\n",
    "    # Test set\n",
    "    test_x = test_x.astype('float32') / 255.\n",
    "    test_y = test_y.astype('int32')\n",
    "    return (train_x, train_y), (test_x, test_y)\n",
    "\n",
    "# MNIST 데이터 불러오기\n",
    "(train_x, train_y), (test_x, test_y) = mnist_load()"
   ]
  },
  {
   "cell_type": "markdown",
   "metadata": {},
   "source": [
    " "
   ]
  },
  {
   "cell_type": "markdown",
   "metadata": {},
   "source": [
    "모델 함수(`model_fn`)와 학습 설정(`model_params`)를 만들었으니, 이제 `tf.estimator`를 이용해 Estimator를 인스턴스화 해준다."
   ]
  },
  {
   "cell_type": "code",
   "execution_count": 90,
   "metadata": {},
   "outputs": [
    {
     "name": "stdout",
     "output_type": "stream",
     "text": [
      "INFO:tensorflow:Using default config.\n",
      "INFO:tensorflow:Using config: {'_model_dir': './model/mnist_cnn', '_tf_random_seed': None, '_save_summary_steps': 100, '_save_checkpoints_steps': None, '_save_checkpoints_secs': 600, '_session_config': None, '_keep_checkpoint_max': 5, '_keep_checkpoint_every_n_hours': 10000, '_log_step_count_steps': 100, '_train_distribute': None, '_service': None, '_cluster_spec': <tensorflow.python.training.server_lib.ClusterSpec object at 0x00000293A61A8B00>, '_task_type': 'worker', '_task_id': 0, '_global_id_in_cluster': 0, '_master': '', '_evaluation_master': '', '_is_chief': True, '_num_ps_replicas': 0, '_num_worker_replicas': 1}\n",
      "INFO:tensorflow:Calling model_fn.\n",
      "INFO:tensorflow:Done calling model_fn.\n",
      "INFO:tensorflow:Create CheckpointSaverHook.\n",
      "INFO:tensorflow:Graph was finalized.\n",
      "INFO:tensorflow:Restoring parameters from ./model/mnist_cnn\\model.ckpt-100\n",
      "INFO:tensorflow:Running local_init_op.\n",
      "INFO:tensorflow:Done running local_init_op.\n",
      "INFO:tensorflow:Saving checkpoints for 101 into ./model/mnist_cnn\\model.ckpt.\n",
      "INFO:tensorflow:loss = 0.6972733, step = 101\n",
      "INFO:tensorflow:global_step/sec: 7.69614\n",
      "INFO:tensorflow:loss = 0.283104, step = 201 (12.994 sec)\n",
      "INFO:tensorflow:global_step/sec: 7.50332\n",
      "INFO:tensorflow:loss = 0.28233457, step = 301 (13.328 sec)\n",
      "INFO:tensorflow:global_step/sec: 7.82044\n",
      "INFO:tensorflow:loss = 0.29857188, step = 401 (12.786 sec)\n",
      "INFO:tensorflow:global_step/sec: 7.8225\n",
      "INFO:tensorflow:loss = 0.43387017, step = 501 (12.785 sec)\n",
      "INFO:tensorflow:global_step/sec: 7.77775\n",
      "INFO:tensorflow:loss = 0.1938857, step = 601 (12.874 sec)\n",
      "INFO:tensorflow:global_step/sec: 7.36151\n",
      "INFO:tensorflow:loss = 0.20216578, step = 701 (13.566 sec)\n",
      "INFO:tensorflow:global_step/sec: 7.56821\n",
      "INFO:tensorflow:loss = 0.13423444, step = 801 (13.213 sec)\n",
      "INFO:tensorflow:global_step/sec: 7.65595\n",
      "INFO:tensorflow:loss = 0.2598955, step = 901 (13.062 sec)\n",
      "INFO:tensorflow:global_step/sec: 7.78321\n",
      "INFO:tensorflow:loss = 0.078527495, step = 1001 (12.849 sec)\n",
      "INFO:tensorflow:Saving checkpoints for 1100 into ./model/mnist_cnn\\model.ckpt.\n",
      "INFO:tensorflow:Loss for final step: 0.14019911.\n"
     ]
    },
    {
     "data": {
      "text/plain": [
       "<tensorflow.python.estimator.estimator.Estimator at 0x293a63cb6d8>"
      ]
     },
     "execution_count": 90,
     "metadata": {},
     "output_type": "execute_result"
    }
   ],
   "source": [
    "# Generate Estimator\n",
    "CNN = tf.estimator.Estimator(model_fn=cnn_model_fn,\n",
    "                             params=model_params,\n",
    "                             model_dir='./model/mnist_cnn')\n",
    "\n",
    "# Train the model\n",
    "train_input_fn = tf.estimator.inputs.numpy_input_fn(\n",
    "        x={'x': train_x},\n",
    "        y=train_y,\n",
    "        batch_size=100,\n",
    "        num_epochs=None,\n",
    "        shuffle=True)\n",
    "\n",
    "CNN.train(input_fn=train_input_fn, \n",
    "          steps=1000)"
   ]
  },
  {
   "cell_type": "markdown",
   "metadata": {},
   "source": [
    " "
   ]
  },
  {
   "cell_type": "markdown",
   "metadata": {},
   "source": [
    "학습이 끝났으면, 테스트 데이터를 이용해 모델을 평가해보자. 아래의 코드는 학습된 Estimator를 `.evaluate()`를 이용해 Estimator를 평가하는 코드이다."
   ]
  },
  {
   "cell_type": "code",
   "execution_count": 92,
   "metadata": {},
   "outputs": [
    {
     "name": "stdout",
     "output_type": "stream",
     "text": [
      "INFO:tensorflow:Calling model_fn.\n",
      "INFO:tensorflow:Done calling model_fn.\n",
      "INFO:tensorflow:Starting evaluation at 2018-06-29-02:35:28\n",
      "INFO:tensorflow:Graph was finalized.\n",
      "INFO:tensorflow:Restoring parameters from ./model/mnist_cnn\\model.ckpt-1100\n",
      "INFO:tensorflow:Running local_init_op.\n",
      "INFO:tensorflow:Done running local_init_op.\n",
      "INFO:tensorflow:Finished evaluation at 2018-06-29-02:35:33\n",
      "INFO:tensorflow:Saving dict for global step 1100: accuracy = 0.9739, global_step = 1100, loss = 0.0923978\n",
      "{'accuracy': 0.9739, 'loss': 0.0923978, 'global_step': 1100}\n"
     ]
    }
   ],
   "source": [
    "# Evaluate the model and print results\n",
    "eval_input_fn = tf.estimator.inputs.numpy_input_fn(\n",
    "        x={'x': test_x},\n",
    "        y=test_y,\n",
    "        num_epochs=1,\n",
    "        shuffle=False)\n",
    "eval_results = CNN.evaluate(input_fn=eval_input_fn)\n",
    "print(eval_results)"
   ]
  },
  {
   "cell_type": "markdown",
   "metadata": {},
   "source": [
    " "
   ]
  },
  {
   "cell_type": "markdown",
   "metadata": {},
   "source": [
    "### 7.2.5 정리\n",
    "\n",
    "지금까지 `tf.estimator`를 이용해 모델을 구현해 보았다. 확실히 Low-Level 텐서플로를 이용해 모델을 학습시키는 부분의 코드 수가 많이 줄어든 것을 확인할 수 있다. \n",
    "\n",
    "`tf.estimator`에 대한 더 많은 튜토리얼은 https://www.tensorflow.org/tutorials/ 에서 살펴볼 수 있다."
   ]
  }
 ],
 "metadata": {
  "kernelspec": {
   "display_name": "tensorflow",
   "language": "python",
   "name": "tensorflow"
  },
  "language_info": {
   "codemirror_mode": {
    "name": "ipython",
    "version": 3
   },
   "file_extension": ".py",
   "mimetype": "text/x-python",
   "name": "python",
   "nbconvert_exporter": "python",
   "pygments_lexer": "ipython3",
   "version": "3.6.5"
  }
 },
 "nbformat": 4,
 "nbformat_minor": 2
}
