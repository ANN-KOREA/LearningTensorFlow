{
 "cells": [
  {
   "cell_type": "markdown",
   "metadata": {},
   "source": [
    "# Feature Columns"
   ]
  },
  {
   "cell_type": "code",
   "execution_count": 1,
   "metadata": {},
   "outputs": [
    {
     "name": "stderr",
     "output_type": "stream",
     "text": [
      "/Users/cjh/miniconda3/envs/tensorflow/lib/python3.6/importlib/_bootstrap.py:219: RuntimeWarning: compiletime version 3.5 of module 'tensorflow.python.framework.fast_tensor_util' does not match runtime version 3.6\n",
      "  return f(*args, **kwds)\n"
     ]
    }
   ],
   "source": [
    "%matplotlib inline\n",
    "import math\n",
    "import numpy as np\n",
    "import pandas as pd\n",
    "import seaborn as sn\n",
    "import tensorflow as tf\n",
    "\n",
    "from IPython import display\n",
    "from matplotlib import cm\n",
    "from matplotlib import gridspec\n",
    "from matplotlib import pyplot as plt\n",
    "from tensorflow.data import Dataset\n",
    "from sklearn import metrics\n",
    "\n",
    "sn.set()\n",
    "tf.logging.set_verbosity(tf.logging.ERROR)\n",
    "pd.options.display.max_rows = 10\n",
    "pd.options.display.float_format = '{:.1f}'.format"
   ]
  },
  {
   "cell_type": "code",
   "execution_count": 2,
   "metadata": {},
   "outputs": [
    {
     "data": {
      "text/html": [
       "<div>\n",
       "<style scoped>\n",
       "    .dataframe tbody tr th:only-of-type {\n",
       "        vertical-align: middle;\n",
       "    }\n",
       "\n",
       "    .dataframe tbody tr th {\n",
       "        vertical-align: top;\n",
       "    }\n",
       "\n",
       "    .dataframe thead th {\n",
       "        text-align: right;\n",
       "    }\n",
       "</style>\n",
       "<table border=\"1\" class=\"dataframe\">\n",
       "  <thead>\n",
       "    <tr style=\"text-align: right;\">\n",
       "      <th></th>\n",
       "      <th>longitude</th>\n",
       "      <th>latitude</th>\n",
       "      <th>housing_median_age</th>\n",
       "      <th>total_rooms</th>\n",
       "      <th>total_bedrooms</th>\n",
       "      <th>population</th>\n",
       "      <th>households</th>\n",
       "      <th>median_income</th>\n",
       "      <th>median_house_value</th>\n",
       "    </tr>\n",
       "  </thead>\n",
       "  <tbody>\n",
       "    <tr>\n",
       "      <th>0</th>\n",
       "      <td>-114.3</td>\n",
       "      <td>34.2</td>\n",
       "      <td>15.0</td>\n",
       "      <td>5612.0</td>\n",
       "      <td>1283.0</td>\n",
       "      <td>1015.0</td>\n",
       "      <td>472.0</td>\n",
       "      <td>1.5</td>\n",
       "      <td>66.9</td>\n",
       "    </tr>\n",
       "    <tr>\n",
       "      <th>1</th>\n",
       "      <td>-114.5</td>\n",
       "      <td>34.4</td>\n",
       "      <td>19.0</td>\n",
       "      <td>7650.0</td>\n",
       "      <td>1901.0</td>\n",
       "      <td>1129.0</td>\n",
       "      <td>463.0</td>\n",
       "      <td>1.8</td>\n",
       "      <td>80.1</td>\n",
       "    </tr>\n",
       "    <tr>\n",
       "      <th>2</th>\n",
       "      <td>-114.6</td>\n",
       "      <td>33.7</td>\n",
       "      <td>17.0</td>\n",
       "      <td>720.0</td>\n",
       "      <td>174.0</td>\n",
       "      <td>333.0</td>\n",
       "      <td>117.0</td>\n",
       "      <td>1.7</td>\n",
       "      <td>85.7</td>\n",
       "    </tr>\n",
       "    <tr>\n",
       "      <th>3</th>\n",
       "      <td>-114.6</td>\n",
       "      <td>33.6</td>\n",
       "      <td>14.0</td>\n",
       "      <td>1501.0</td>\n",
       "      <td>337.0</td>\n",
       "      <td>515.0</td>\n",
       "      <td>226.0</td>\n",
       "      <td>3.2</td>\n",
       "      <td>73.4</td>\n",
       "    </tr>\n",
       "    <tr>\n",
       "      <th>4</th>\n",
       "      <td>-114.6</td>\n",
       "      <td>33.6</td>\n",
       "      <td>20.0</td>\n",
       "      <td>1454.0</td>\n",
       "      <td>326.0</td>\n",
       "      <td>624.0</td>\n",
       "      <td>262.0</td>\n",
       "      <td>1.9</td>\n",
       "      <td>65.5</td>\n",
       "    </tr>\n",
       "  </tbody>\n",
       "</table>\n",
       "</div>"
      ],
      "text/plain": [
       "   longitude  latitude  housing_median_age  total_rooms  total_bedrooms  \\\n",
       "0     -114.3      34.2                15.0       5612.0          1283.0   \n",
       "1     -114.5      34.4                19.0       7650.0          1901.0   \n",
       "2     -114.6      33.7                17.0        720.0           174.0   \n",
       "3     -114.6      33.6                14.0       1501.0           337.0   \n",
       "4     -114.6      33.6                20.0       1454.0           326.0   \n",
       "\n",
       "   population  households  median_income  median_house_value  \n",
       "0      1015.0       472.0            1.5                66.9  \n",
       "1      1129.0       463.0            1.8                80.1  \n",
       "2       333.0       117.0            1.7                85.7  \n",
       "3       515.0       226.0            3.2                73.4  \n",
       "4       624.0       262.0            1.9                65.5  "
      ]
     },
     "execution_count": 2,
     "metadata": {},
     "output_type": "execute_result"
    }
   ],
   "source": [
    "cf_housing_df = pd.read_csv('https://storage.googleapis.com/mledu-datasets/california_housing_train.csv')\n",
    "cf_housing_df['median_house_value'] = cf_housing_df['median_house_value'] / 1000.0\n",
    "cf_housing_df.head()"
   ]
  },
  {
   "cell_type": "markdown",
   "metadata": {},
   "source": [
    " "
   ]
  },
  {
   "cell_type": "markdown",
   "metadata": {},
   "source": [
    "## Feature Cross"
   ]
  },
  {
   "cell_type": "code",
   "execution_count": 10,
   "metadata": {},
   "outputs": [],
   "source": [
    "def get_quantile_based_boundaries(feature_values, num_buckets):\n",
    "    boundaries = np.arange(1.0, num_buckets) / num_buckets\n",
    "    quantiles = feature_values.quantile(boundaries)\n",
    "    return [quantiles[q] for q in quantiles.keys()]"
   ]
  },
  {
   "cell_type": "code",
   "execution_count": 11,
   "metadata": {},
   "outputs": [],
   "source": [
    "longitude = tf.feature_column.numeric_column(\"longitude\")\n",
    "latitude = tf.feature_column.numeric_column(\"latitude\")\n",
    "\n",
    "# Divide longitude into 10 buckets\n",
    "bucketized_longitude = tf.feature_column.bucketized_column(\n",
    "    longitude, boundaries=get_quantile_based_boundaries(\n",
    "        cf_housing_df[\"longitude\"], 10))\n",
    "\n",
    "# Divide latitude into 10 buckets\n",
    "bucketized_latitude = tf.feature_column.bucketized_column(\n",
    "    latitude, boundaries=get_quantile_based_boundaries(\n",
    "        cf_housing_df['latitude'], 10))"
   ]
  },
  {
   "cell_type": "markdown",
   "metadata": {},
   "source": [
    " "
   ]
  },
  {
   "cell_type": "markdown",
   "metadata": {},
   "source": [
    "### 1) bucketized_longitude"
   ]
  },
  {
   "cell_type": "code",
   "execution_count": 15,
   "metadata": {},
   "outputs": [],
   "source": [
    "feature_columns = [bucketized_longitude]\n",
    "input_layer = tf.feature_column.input_layer(\n",
    "    features={'longitude': [-123.3]},\n",
    "    feature_columns=feature_columns)"
   ]
  },
  {
   "cell_type": "code",
   "execution_count": 16,
   "metadata": {},
   "outputs": [
    {
     "name": "stdout",
     "output_type": "stream",
     "text": [
      "[[1. 0. 0. 0. 0. 0. 0. 0. 0. 0.]]\n",
      "(-122.28, -121.98, -121.36000000000001, -119.87, -118.49, -118.3, -118.12, -117.88, -117.24)\n"
     ]
    }
   ],
   "source": [
    "with tf.Session() as sess:\n",
    "    inputs = input_layer.eval()\n",
    "\n",
    "print(inputs)\n",
    "print(bucketized_longitude.boundaries)"
   ]
  },
  {
   "cell_type": "markdown",
   "metadata": {},
   "source": [
    " "
   ]
  },
  {
   "cell_type": "markdown",
   "metadata": {},
   "source": [
    "### 2) bucketized_latitude"
   ]
  },
  {
   "cell_type": "code",
   "execution_count": 95,
   "metadata": {},
   "outputs": [],
   "source": [
    "feature_columns = [bucketized_latitude]\n",
    "input_layer = tf.feature_column.input_layer(\n",
    "    features={'latitude': [33]},\n",
    "    feature_columns=feature_columns)"
   ]
  },
  {
   "cell_type": "code",
   "execution_count": 96,
   "metadata": {},
   "outputs": [
    {
     "name": "stdout",
     "output_type": "stream",
     "text": [
      "[[1. 0. 0. 0. 0. 0. 0. 0. 0. 0.]]\n",
      "(33.62, 33.86, 34.0, 34.09, 34.25, 36.64, 37.47, 37.81, 38.48)\n"
     ]
    }
   ],
   "source": [
    "with tf.Session() as sess:\n",
    "    inputs = input_layer.eval()\n",
    "\n",
    "print(inputs)\n",
    "print(bucketized_latitude.boundaries)"
   ]
  },
  {
   "cell_type": "markdown",
   "metadata": {},
   "source": [
    " "
   ]
  },
  {
   "cell_type": "markdown",
   "metadata": {},
   "source": [
    "### 3) long_x_lat - crossed feature\n",
    "\n",
    "`one-hot index = feature-cross % hash_bucket_size` "
   ]
  },
  {
   "cell_type": "code",
   "execution_count": 137,
   "metadata": {},
   "outputs": [],
   "source": [
    "# feature cross\n",
    "long_x_lat = tf.feature_column.crossed_column(\n",
    "    [bucketized_longitude, bucketized_latitude], 10*10)\n",
    "\n",
    "# crossed feature -> one-hot(indicator column)\n",
    "embed_long_x_lat = tf.feature_column.indicator_column(long_x_lat)"
   ]
  },
  {
   "cell_type": "code",
   "execution_count": 138,
   "metadata": {},
   "outputs": [],
   "source": [
    "feature_columns = [embed_long_x_lat]\n",
    "\n",
    "input_layer = tf.feature_column.input_layer(\n",
    "    features={'longitude': [-130], 'latitude': [10]},\n",
    "    feature_columns=feature_columns)"
   ]
  },
  {
   "cell_type": "code",
   "execution_count": 139,
   "metadata": {},
   "outputs": [
    {
     "data": {
      "text/plain": [
       "array([[0., 0., 0., 0., 1., 0., 0., 0., 0., 0., 0., 0., 0., 0., 0., 0.,\n",
       "        0., 0., 0., 0., 0., 0., 0., 0., 0., 0., 0., 0., 0., 0., 0., 0.,\n",
       "        0., 0., 0., 0., 0., 0., 0., 0., 0., 0., 0., 0., 0., 0., 0., 0.,\n",
       "        0., 0., 0., 0., 0., 0., 0., 0., 0., 0., 0., 0., 0., 0., 0., 0.,\n",
       "        0., 0., 0., 0., 0., 0., 0., 0., 0., 0., 0., 0., 0., 0., 0., 0.,\n",
       "        0., 0., 0., 0., 0., 0., 0., 0., 0., 0., 0., 0., 0., 0., 0., 0.,\n",
       "        0., 0., 0., 0.]], dtype=float32)"
      ]
     },
     "execution_count": 139,
     "metadata": {},
     "output_type": "execute_result"
    }
   ],
   "source": [
    "with tf.Session() as sess:\n",
    "    inputs = input_layer.eval()\n",
    "    \n",
    "inputs"
   ]
  },
  {
   "cell_type": "markdown",
   "metadata": {},
   "source": [
    " "
   ]
  },
  {
   "cell_type": "markdown",
   "metadata": {},
   "source": [
    "## California House"
   ]
  },
  {
   "cell_type": "code",
   "execution_count": 140,
   "metadata": {},
   "outputs": [],
   "source": [
    "households = tf.feature_column.numeric_column(\"households\")\n",
    "longitude = tf.feature_column.numeric_column(\"longitude\")\n",
    "latitude = tf.feature_column.numeric_column(\"latitude\")\n",
    "housing_median_age = tf.feature_column.numeric_column(\"housing_median_age\")\n",
    "median_income = tf.feature_column.numeric_column(\"median_income\")\n",
    "\n",
    "\n",
    "# Divide households into 7 buckets.\n",
    "bucketized_households = tf.feature_column.bucketized_column(\n",
    "    households, boundaries=get_quantile_based_boundaries(\n",
    "      training_examples[\"households\"], 7))\n",
    "\n",
    "# Divide longitude into 10 buckets.\n",
    "bucketized_longitude = tf.feature_column.bucketized_column(\n",
    "    longitude, boundaries=get_quantile_based_boundaries(\n",
    "      training_examples[\"longitude\"], 10))\n",
    "\n",
    "# Divide latitude into 10 buckets.\n",
    "bucketized_latitude = tf.feature_column.bucketized_column(\n",
    "    latitude, boundaries=get_quantile_based_boundaries(\n",
    "      training_examples[\"latitude\"], 10))\n",
    "\n",
    "# Divide housing_median_age into 7 buckets.\n",
    "bucketized_housing_median_age = tf.feature_column.bucketized_column(\n",
    "housing_median_age, boundaries=get_quantile_based_boundaries(\n",
    "  training_examples[\"housing_median_age\"], 7))\n",
    "\n",
    "# Divide median_income into 7 buckets.\n",
    "bucketized_median_income = tf.feature_column.bucketized_column(\n",
    "    median_income, boundaries=get_quantile_based_boundaries(\n",
    "      training_examples[\"median_income\"], 7))\n",
    "\n",
    "long_x_lat = tf.feature_column.crossed_column(\n",
    "    set([bucketized_longitude, bucketized_latitude]), hash_bucket_size=10*10) "
   ]
  },
  {
   "cell_type": "code",
   "execution_count": 141,
   "metadata": {},
   "outputs": [],
   "source": [
    "# crossed feature -> one-hot(indicator column)\n",
    "embed_long_x_lat = tf.feature_column.indicator_column(long_x_lat)"
   ]
  },
  {
   "cell_type": "code",
   "execution_count": 73,
   "metadata": {},
   "outputs": [],
   "source": [
    "feature_columns = set([\n",
    "    bucketized_longitude,  # 10\n",
    "    bucketized_latitude,  # 10\n",
    "    bucketized_housing_median_age,  # 7\n",
    "    bucketized_households,  # 7\n",
    "    bucketized_median_income,  # 7\n",
    "    embed_long_x_lat])  # 100  total: 141"
   ]
  },
  {
   "cell_type": "code",
   "execution_count": 74,
   "metadata": {},
   "outputs": [],
   "source": [
    "features = {\n",
    "    'longitude': [-130], \n",
    "    'latitude': [10], \n",
    "    'housing_median_age': [12],\n",
    "    'households': [190],\n",
    "    'median_income': [2]\n",
    "}"
   ]
  },
  {
   "cell_type": "code",
   "execution_count": 75,
   "metadata": {},
   "outputs": [],
   "source": [
    "input_layer = tf.feature_column.input_layer(\n",
    "    features=features,\n",
    "    feature_columns=feature_columns)"
   ]
  },
  {
   "cell_type": "code",
   "execution_count": 76,
   "metadata": {},
   "outputs": [
    {
     "data": {
      "text/plain": [
       "array([[1., 0., 0., 0., 0., 0., 0., 1., 0., 0., 0., 0., 0., 0., 1., 0.,\n",
       "        0., 0., 0., 0., 0., 0., 0., 0., 0., 0., 0., 0., 1., 0., 0., 0.,\n",
       "        0., 0., 0., 0., 0., 0., 0., 0., 0., 0., 0., 0., 0., 0., 0., 0.,\n",
       "        0., 0., 0., 0., 0., 0., 0., 0., 0., 0., 0., 0., 0., 0., 0., 0.,\n",
       "        0., 0., 0., 0., 0., 0., 0., 0., 0., 0., 0., 0., 0., 0., 0., 0.,\n",
       "        0., 0., 0., 0., 0., 0., 0., 0., 0., 0., 0., 0., 0., 0., 0., 0.,\n",
       "        0., 0., 0., 0., 0., 0., 0., 0., 0., 0., 0., 0., 0., 0., 0., 0.,\n",
       "        0., 0., 0., 0., 0., 0., 0., 0., 0., 0., 0., 0., 1., 0., 0., 0.,\n",
       "        0., 0., 0., 0., 0., 0., 1., 0., 0., 0., 0., 0., 0.]],\n",
       "      dtype=float32)"
      ]
     },
     "execution_count": 76,
     "metadata": {},
     "output_type": "execute_result"
    }
   ],
   "source": [
    "with tf.Session() as sess:\n",
    "    inputs = input_layer.eval()\n",
    "    \n",
    "inputs"
   ]
  },
  {
   "cell_type": "code",
   "execution_count": 77,
   "metadata": {},
   "outputs": [
    {
     "data": {
      "text/plain": [
       "(1, 141)"
      ]
     },
     "execution_count": 77,
     "metadata": {},
     "output_type": "execute_result"
    }
   ],
   "source": [
    "inputs.shape"
   ]
  },
  {
   "cell_type": "markdown",
   "metadata": {},
   "source": [
    " "
   ]
  },
  {
   "cell_type": "markdown",
   "metadata": {},
   "source": [
    "## Feature Column in Low-Level API"
   ]
  },
  {
   "cell_type": "code",
   "execution_count": 6,
   "metadata": {},
   "outputs": [
    {
     "data": {
      "text/html": [
       "<div>\n",
       "<style scoped>\n",
       "    .dataframe tbody tr th:only-of-type {\n",
       "        vertical-align: middle;\n",
       "    }\n",
       "\n",
       "    .dataframe tbody tr th {\n",
       "        vertical-align: top;\n",
       "    }\n",
       "\n",
       "    .dataframe thead th {\n",
       "        text-align: right;\n",
       "    }\n",
       "</style>\n",
       "<table border=\"1\" class=\"dataframe\">\n",
       "  <thead>\n",
       "    <tr style=\"text-align: right;\">\n",
       "      <th></th>\n",
       "      <th>longitude</th>\n",
       "      <th>latitude</th>\n",
       "      <th>housing_median_age</th>\n",
       "      <th>total_rooms</th>\n",
       "      <th>total_bedrooms</th>\n",
       "      <th>population</th>\n",
       "      <th>households</th>\n",
       "      <th>median_income</th>\n",
       "      <th>median_house_value</th>\n",
       "    </tr>\n",
       "  </thead>\n",
       "  <tbody>\n",
       "    <tr>\n",
       "      <th>0</th>\n",
       "      <td>-114.3</td>\n",
       "      <td>34.2</td>\n",
       "      <td>15.0</td>\n",
       "      <td>5612.0</td>\n",
       "      <td>1283.0</td>\n",
       "      <td>1015.0</td>\n",
       "      <td>472.0</td>\n",
       "      <td>1.5</td>\n",
       "      <td>66.9</td>\n",
       "    </tr>\n",
       "    <tr>\n",
       "      <th>1</th>\n",
       "      <td>-114.5</td>\n",
       "      <td>34.4</td>\n",
       "      <td>19.0</td>\n",
       "      <td>7650.0</td>\n",
       "      <td>1901.0</td>\n",
       "      <td>1129.0</td>\n",
       "      <td>463.0</td>\n",
       "      <td>1.8</td>\n",
       "      <td>80.1</td>\n",
       "    </tr>\n",
       "    <tr>\n",
       "      <th>2</th>\n",
       "      <td>-114.6</td>\n",
       "      <td>33.7</td>\n",
       "      <td>17.0</td>\n",
       "      <td>720.0</td>\n",
       "      <td>174.0</td>\n",
       "      <td>333.0</td>\n",
       "      <td>117.0</td>\n",
       "      <td>1.7</td>\n",
       "      <td>85.7</td>\n",
       "    </tr>\n",
       "    <tr>\n",
       "      <th>3</th>\n",
       "      <td>-114.6</td>\n",
       "      <td>33.6</td>\n",
       "      <td>14.0</td>\n",
       "      <td>1501.0</td>\n",
       "      <td>337.0</td>\n",
       "      <td>515.0</td>\n",
       "      <td>226.0</td>\n",
       "      <td>3.2</td>\n",
       "      <td>73.4</td>\n",
       "    </tr>\n",
       "    <tr>\n",
       "      <th>4</th>\n",
       "      <td>-114.6</td>\n",
       "      <td>33.6</td>\n",
       "      <td>20.0</td>\n",
       "      <td>1454.0</td>\n",
       "      <td>326.0</td>\n",
       "      <td>624.0</td>\n",
       "      <td>262.0</td>\n",
       "      <td>1.9</td>\n",
       "      <td>65.5</td>\n",
       "    </tr>\n",
       "  </tbody>\n",
       "</table>\n",
       "</div>"
      ],
      "text/plain": [
       "   longitude  latitude  housing_median_age  total_rooms  total_bedrooms  \\\n",
       "0     -114.3      34.2                15.0       5612.0          1283.0   \n",
       "1     -114.5      34.4                19.0       7650.0          1901.0   \n",
       "2     -114.6      33.7                17.0        720.0           174.0   \n",
       "3     -114.6      33.6                14.0       1501.0           337.0   \n",
       "4     -114.6      33.6                20.0       1454.0           326.0   \n",
       "\n",
       "   population  households  median_income  median_house_value  \n",
       "0      1015.0       472.0            1.5                66.9  \n",
       "1      1129.0       463.0            1.8                80.1  \n",
       "2       333.0       117.0            1.7                85.7  \n",
       "3       515.0       226.0            3.2                73.4  \n",
       "4       624.0       262.0            1.9                65.5  "
      ]
     },
     "execution_count": 6,
     "metadata": {},
     "output_type": "execute_result"
    }
   ],
   "source": [
    "cf_housing_df = pd.read_csv('https://storage.googleapis.com/mledu-datasets/california_housing_train.csv')\n",
    "cf_housing_df['median_house_value'] = cf_housing_df['median_house_value'] / 1000.0\n",
    "cf_housing_df.head()"
   ]
  },
  {
   "cell_type": "code",
   "execution_count": 8,
   "metadata": {},
   "outputs": [
    {
     "data": {
      "text/html": [
       "<div>\n",
       "<style scoped>\n",
       "    .dataframe tbody tr th:only-of-type {\n",
       "        vertical-align: middle;\n",
       "    }\n",
       "\n",
       "    .dataframe tbody tr th {\n",
       "        vertical-align: top;\n",
       "    }\n",
       "\n",
       "    .dataframe thead th {\n",
       "        text-align: right;\n",
       "    }\n",
       "</style>\n",
       "<table border=\"1\" class=\"dataframe\">\n",
       "  <thead>\n",
       "    <tr style=\"text-align: right;\">\n",
       "      <th></th>\n",
       "      <th>longitude</th>\n",
       "      <th>latitude</th>\n",
       "      <th>housing_median_age</th>\n",
       "      <th>total_rooms</th>\n",
       "      <th>total_bedrooms</th>\n",
       "      <th>population</th>\n",
       "      <th>households</th>\n",
       "      <th>median_income</th>\n",
       "      <th>median_house_value</th>\n",
       "    </tr>\n",
       "  </thead>\n",
       "  <tbody>\n",
       "    <tr>\n",
       "      <th>0</th>\n",
       "      <td>[-114.31]</td>\n",
       "      <td>[34.19]</td>\n",
       "      <td>[15.0]</td>\n",
       "      <td>[5612.0]</td>\n",
       "      <td>[1283.0]</td>\n",
       "      <td>[1015.0]</td>\n",
       "      <td>[472.0]</td>\n",
       "      <td>[1.4936]</td>\n",
       "      <td>66.9</td>\n",
       "    </tr>\n",
       "    <tr>\n",
       "      <th>1</th>\n",
       "      <td>[-114.47]</td>\n",
       "      <td>[34.4]</td>\n",
       "      <td>[19.0]</td>\n",
       "      <td>[7650.0]</td>\n",
       "      <td>[1901.0]</td>\n",
       "      <td>[1129.0]</td>\n",
       "      <td>[463.0]</td>\n",
       "      <td>[1.82]</td>\n",
       "      <td>80.1</td>\n",
       "    </tr>\n",
       "    <tr>\n",
       "      <th>2</th>\n",
       "      <td>[-114.56]</td>\n",
       "      <td>[33.69]</td>\n",
       "      <td>[17.0]</td>\n",
       "      <td>[720.0]</td>\n",
       "      <td>[174.0]</td>\n",
       "      <td>[333.0]</td>\n",
       "      <td>[117.0]</td>\n",
       "      <td>[1.6509]</td>\n",
       "      <td>85.7</td>\n",
       "    </tr>\n",
       "    <tr>\n",
       "      <th>3</th>\n",
       "      <td>[-114.57]</td>\n",
       "      <td>[33.64]</td>\n",
       "      <td>[14.0]</td>\n",
       "      <td>[1501.0]</td>\n",
       "      <td>[337.0]</td>\n",
       "      <td>[515.0]</td>\n",
       "      <td>[226.0]</td>\n",
       "      <td>[3.1917]</td>\n",
       "      <td>73.4</td>\n",
       "    </tr>\n",
       "    <tr>\n",
       "      <th>4</th>\n",
       "      <td>[-114.57]</td>\n",
       "      <td>[33.57]</td>\n",
       "      <td>[20.0]</td>\n",
       "      <td>[1454.0]</td>\n",
       "      <td>[326.0]</td>\n",
       "      <td>[624.0]</td>\n",
       "      <td>[262.0]</td>\n",
       "      <td>[1.925]</td>\n",
       "      <td>65.5</td>\n",
       "    </tr>\n",
       "  </tbody>\n",
       "</table>\n",
       "</div>"
      ],
      "text/plain": [
       "   longitude latitude housing_median_age total_rooms total_bedrooms  \\\n",
       "0  [-114.31]  [34.19]             [15.0]    [5612.0]       [1283.0]   \n",
       "1  [-114.47]   [34.4]             [19.0]    [7650.0]       [1901.0]   \n",
       "2  [-114.56]  [33.69]             [17.0]     [720.0]        [174.0]   \n",
       "3  [-114.57]  [33.64]             [14.0]    [1501.0]        [337.0]   \n",
       "4  [-114.57]  [33.57]             [20.0]    [1454.0]        [326.0]   \n",
       "\n",
       "  population households median_income  median_house_value  \n",
       "0   [1015.0]    [472.0]      [1.4936]                66.9  \n",
       "1   [1129.0]    [463.0]        [1.82]                80.1  \n",
       "2    [333.0]    [117.0]      [1.6509]                85.7  \n",
       "3    [515.0]    [226.0]      [3.1917]                73.4  \n",
       "4    [624.0]    [262.0]       [1.925]                65.5  "
      ]
     },
     "execution_count": 8,
     "metadata": {},
     "output_type": "execute_result"
    }
   ],
   "source": [
    "columns = cf_housing_df.columns.tolist()[:-1]\n",
    "\n",
    "for column in columns:\n",
    "    cf_housing_df[column] = cf_housing_df[column].apply(lambda row: [row])\n",
    "    \n",
    "cf_housing_df.head()"
   ]
  },
  {
   "cell_type": "code",
   "execution_count": 39,
   "metadata": {},
   "outputs": [],
   "source": [
    "train_x, train_y = cf_housing_df[:12000], cf_housing_df['median_house_value'][:12000]\n",
    "test_x, test_y = cf_housing_df[12000:], cf_housing_df['median_house_value'][12000:]\n",
    "train_y, test_y = train_y.values.reshape(-1, 1), test_y.values.reshape(-1, 1)"
   ]
  },
  {
   "cell_type": "code",
   "execution_count": 13,
   "metadata": {},
   "outputs": [],
   "source": [
    "def get_quantile_based_boundaries(feature_values, num_buckets):\n",
    "    boundaries = np.arange(1.0, num_buckets) / num_buckets\n",
    "    quantiles = feature_values.quantile(boundaries)\n",
    "    return [quantiles[q] for q in quantiles.keys()]"
   ]
  },
  {
   "cell_type": "code",
   "execution_count": 20,
   "metadata": {},
   "outputs": [],
   "source": [
    "longitude = tf.feature_column.numeric_column(\"longitude\")\n",
    "latitude = tf.feature_column.numeric_column(\"latitude\")\n",
    "housing_median_age = tf.feature_column.numeric_column(\"housing_median_age\")\n",
    "households = tf.feature_column.numeric_column(\"households\")\n",
    "median_income = tf.feature_column.numeric_column(\"median_income\")\n",
    "\n",
    "\n",
    "# Divide longitude into 10 buckets.\n",
    "bucketized_longitude = tf.feature_column.bucketized_column(\n",
    "    longitude, boundaries=get_quantile_based_boundaries(\n",
    "      train_x[\"longitude\"].apply(lambda x: x[0]), 10))\n",
    "\n",
    "# Divide latitude into 10 buckets.\n",
    "bucketized_latitude = tf.feature_column.bucketized_column(\n",
    "    latitude, boundaries=get_quantile_based_boundaries(\n",
    "      train_x[\"latitude\"].apply(lambda x: x[0]), 10))\n",
    "\n",
    "# Divide housing_median_age into 7 buckets.\n",
    "bucketized_housing_median_age = tf.feature_column.bucketized_column(\n",
    "    housing_median_age, boundaries=get_quantile_based_boundaries(\n",
    "      train_x[\"housing_median_age\"].apply(lambda x: x[0]), 7))\n",
    "\n",
    "# Divide households into 7 buckets.\n",
    "bucketized_households = tf.feature_column.bucketized_column(\n",
    "    households, boundaries=get_quantile_based_boundaries(\n",
    "      train_x[\"households\"].apply(lambda x: x[0]), 7))\n",
    "\n",
    "# Divide median_income into 7 buckets.\n",
    "bucketized_median_income = tf.feature_column.bucketized_column(\n",
    "    median_income, boundaries=get_quantile_based_boundaries(\n",
    "      train_x[\"median_income\"].apply(lambda x: x[0]), 7))\n",
    "\n",
    "# Feature Cross: longitude x latitude\n",
    "long_x_lat = tf.feature_column.crossed_column(\n",
    "    set([bucketized_longitude, bucketized_latitude]), hash_bucket_size=10*10)\n",
    "\n",
    "# crossed feature -> one-hot(indicator column)\n",
    "embed_long_x_lat = tf.feature_column.indicator_column(long_x_lat)"
   ]
  },
  {
   "cell_type": "code",
   "execution_count": 24,
   "metadata": {},
   "outputs": [],
   "source": [
    "features = {\n",
    "    'longitude': train_x['longitude'].tolist(),\n",
    "    'latitude': train_x['latitude'].tolist(),\n",
    "    'housing_median_age': train_x['housing_median_age'].tolist(),\n",
    "    'households': train_x['households'].tolist(),\n",
    "    'median_income': train_x['median_income'].tolist() \n",
    "}\n",
    "\n",
    "feature_columns = set([\n",
    "    bucketized_longitude,  # 10\n",
    "    bucketized_latitude,  # 10\n",
    "    bucketized_housing_median_age,  # 7\n",
    "    bucketized_households,  # 7\n",
    "    bucketized_median_income,  # 7\n",
    "    embed_long_x_lat])  # 100  total: 142"
   ]
  },
  {
   "cell_type": "code",
   "execution_count": 30,
   "metadata": {},
   "outputs": [],
   "source": [
    "inputs = tf.feature_column.input_layer(\n",
    "    features=features,\n",
    "    feature_columns=feature_columns)\n",
    "\n",
    "labels = tf.placeholder(tf.float32, [12000, 1])"
   ]
  },
  {
   "cell_type": "code",
   "execution_count": 69,
   "metadata": {},
   "outputs": [],
   "source": [
    "W = tf.Variable(\n",
    "        tf.truncated_normal([141, 1], stddev=0.1))\n",
    "b = tf.Variable(tf.zeros([1]))\n",
    "\n",
    "predictions = tf.matmul(inputs, W) + b\n",
    "\n",
    "# predictions = tf.layers.dense(inputs, 1, \n",
    "#                              kernel_initializer=tf.truncated_normal_initializer(stddev=0.1))\n",
    "\n",
    "# loss & optimizer\n",
    "rmse = tf.sqrt(\n",
    "        tf.losses.mean_squared_error(labels=labels, predictions=predictions))\n",
    "train_op = tf.train.GradientDescentOptimizer(learning_rate=1.0).minimize(rmse)"
   ]
  },
  {
   "cell_type": "code",
   "execution_count": 81,
   "metadata": {},
   "outputs": [
    {
     "name": "stdout",
     "output_type": "stream",
     "text": [
      "Epoch: 030, RMSE: 192.0529\n",
      "Epoch: 060, RMSE: 160.3850\n",
      "Epoch: 090, RMSE: 135.5469\n",
      "Epoch: 120, RMSE: 118.3384\n",
      "Epoch: 150, RMSE: 107.7163\n",
      "Epoch: 180, RMSE: 101.3966\n",
      "Epoch: 210, RMSE: 97.3458\n",
      "Epoch: 240, RMSE: 94.3782\n",
      "Epoch: 270, RMSE: 91.9437\n",
      "Epoch: 300, RMSE: 89.8138\n"
     ]
    }
   ],
   "source": [
    "num_epoch = 300\n",
    "\n",
    "with tf.Session() as sess:\n",
    "    sess.run(tf.global_variables_initializer())\n",
    "    \n",
    "    for epoch in range(num_epoch):\n",
    "        loss, _ = sess.run([rmse, train_op], feed_dict={labels: train_y})\n",
    "        \n",
    "        if (epoch+1) % 30 == 0:\n",
    "            print('Epoch: {:03d}, RMSE: {:.4f}'.format(epoch+1, loss))\n",
    "            \n",
    "    weights = W.eval()\n",
    "    bias = b.eval()"
   ]
  },
  {
   "cell_type": "code",
   "execution_count": 82,
   "metadata": {},
   "outputs": [
    {
     "data": {
      "text/plain": [
       "(141, 1)"
      ]
     },
     "execution_count": 82,
     "metadata": {},
     "output_type": "execute_result"
    }
   ],
   "source": [
    "weights.shape"
   ]
  },
  {
   "cell_type": "code",
   "execution_count": 83,
   "metadata": {},
   "outputs": [
    {
     "data": {
      "text/plain": [
       "array([117.82721], dtype=float32)"
      ]
     },
     "execution_count": 83,
     "metadata": {},
     "output_type": "execute_result"
    }
   ],
   "source": [
    "bias"
   ]
  },
  {
   "cell_type": "code",
   "execution_count": null,
   "metadata": {},
   "outputs": [],
   "source": []
  }
 ],
 "metadata": {
  "kernelspec": {
   "display_name": "tensorflow",
   "language": "python",
   "name": "tensorflow"
  },
  "language_info": {
   "codemirror_mode": {
    "name": "ipython",
    "version": 3
   },
   "file_extension": ".py",
   "mimetype": "text/x-python",
   "name": "python",
   "nbconvert_exporter": "python",
   "pygments_lexer": "ipython3",
   "version": "3.6.5"
  }
 },
 "nbformat": 4,
 "nbformat_minor": 2
}
