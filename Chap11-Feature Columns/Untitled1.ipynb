{
 "cells": [
  {
   "cell_type": "code",
   "execution_count": 1,
   "metadata": {},
   "outputs": [
    {
     "name": "stderr",
     "output_type": "stream",
     "text": [
      "/Users/cjh/miniconda3/envs/tensorflow/lib/python3.6/importlib/_bootstrap.py:219: RuntimeWarning: compiletime version 3.5 of module 'tensorflow.python.framework.fast_tensor_util' does not match runtime version 3.6\n",
      "  return f(*args, **kwds)\n"
     ]
    }
   ],
   "source": [
    "import tensorflow as tf"
   ]
  },
  {
   "cell_type": "code",
   "execution_count": 27,
   "metadata": {},
   "outputs": [],
   "source": [
    "hours = [hour for hour in range(0, 24)]\n",
    "days = [\n",
    "    0,  # sun\n",
    "    1,  # mon\n",
    "    2,  # tue\n",
    "    3,  # wed\n",
    "    4,  # thu\n",
    "    5,  # fri\n",
    "    6,  # sat\n",
    "]"
   ]
  },
  {
   "cell_type": "code",
   "execution_count": 28,
   "metadata": {},
   "outputs": [],
   "source": [
    "hour_of_day = tf.feature_column.numeric_column('hour_of_day')\n",
    "day_of_week = tf.feature_column.numeric_column('day_of_week')"
   ]
  },
  {
   "cell_type": "code",
   "execution_count": 29,
   "metadata": {},
   "outputs": [],
   "source": [
    "bucketized_hour_of_day = tf.feature_column.bucketized_column(\n",
    "    hour_of_day, boundaries=hours)\n",
    "\n",
    "bucketized_day_of_week = tf.feature_column.bucketized_column(\n",
    "    day_of_week, boundaries=days)"
   ]
  },
  {
   "cell_type": "code",
   "execution_count": 30,
   "metadata": {},
   "outputs": [],
   "source": [
    "day_hr = tf.feature_column.crossed_column(\n",
    "    [bucketized_hour_of_day, bucketized_day_of_week], hash_bucket_size=6)\n",
    "\n",
    "# crossed feature -> one-hot(indicator column)\n",
    "embed_day_hr = tf.feature_column.indicator_column(day_hr)"
   ]
  },
  {
   "cell_type": "code",
   "execution_count": 31,
   "metadata": {},
   "outputs": [],
   "source": [
    "feature_columns = [embed_day_hr]\n",
    "\n",
    "input_layer = tf.feature_column.input_layer(\n",
    "    features={'hour_of_day': [15], 'day_of_week': [3]},\n",
    "    feature_columns=feature_columns)"
   ]
  },
  {
   "cell_type": "code",
   "execution_count": 32,
   "metadata": {},
   "outputs": [
    {
     "data": {
      "text/plain": [
       "array([[1., 0., 0., 0., 0., 0.]], dtype=float32)"
      ]
     },
     "execution_count": 32,
     "metadata": {},
     "output_type": "execute_result"
    }
   ],
   "source": [
    "with tf.Session() as sess:\n",
    "    inputs = input_layer.eval()\n",
    "    \n",
    "inputs"
   ]
  },
  {
   "cell_type": "code",
   "execution_count": null,
   "metadata": {},
   "outputs": [],
   "source": [
    " "
   ]
  }
 ],
 "metadata": {
  "kernelspec": {
   "display_name": "tensorflow",
   "language": "python",
   "name": "tensorflow"
  },
  "language_info": {
   "codemirror_mode": {
    "name": "ipython",
    "version": 3
   },
   "file_extension": ".py",
   "mimetype": "text/x-python",
   "name": "python",
   "nbconvert_exporter": "python",
   "pygments_lexer": "ipython3",
   "version": "3.6.5"
  }
 },
 "nbformat": 4,
 "nbformat_minor": 2
}
