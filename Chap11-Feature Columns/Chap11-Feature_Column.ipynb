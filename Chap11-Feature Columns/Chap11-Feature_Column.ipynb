{
 "cells": [
  {
   "cell_type": "markdown",
   "metadata": {},
   "source": [
    "# TensorFlow Feature Column\n",
    "\n",
    "텐서플로에서는 [`tf.feature_column`](https://www.tensorflow.org/guide/feature_columns)을 이용해 모델에 맞게 데이터를 변형하거나, 데이터의 형식을 지정해줄 수 있다. 이러한 `tf.feature_column`을 통해 처리한 데이터를 `Estimator`([여기](http://excelsior-cjh.tistory.com/157?category=940399) 참고)에 쉽게 적용하여 모델링 할 수 있다. \n",
    "\n",
    "이번 포스팅에서는 텐서플로의 `feature_column`을 이용해 데이터를 처리하는 방법과 `Estimator`가 아닌 텐서플로의 **Low-Level API**를 이용해 `feature_column`의 결과가 어떠한 모양을 가지는지, 그리고 여러개의 범주형 데이터에 대한 입력층(input layer)의 형태는 어떠한지에 대해 알아보도록 하자.\n",
    "\n",
    "\n",
    "\n",
    "먼저, 데이터의 종류에는 어떤 것이 있으며, Feature Engineering, 그리고 범주형 데이터의 표현방법에 대해 살펴보자."
   ]
  },
  {
   "cell_type": "markdown",
   "metadata": {},
   "source": [
    " "
   ]
  },
  {
   "cell_type": "markdown",
   "metadata": {},
   "source": [
    "## SetUp"
   ]
  },
  {
   "cell_type": "code",
   "execution_count": 1,
   "metadata": {},
   "outputs": [],
   "source": [
    "import os\n",
    "import numpy as np\n",
    "import tensorflow as tf\n",
    "\n",
    "# 일관된 출력을 위해 유사난수 초기화\n",
    "def reset_graph(seed=42):\n",
    "    tf.reset_default_graph()\n",
    "    tf.set_random_seed(seed)\n",
    "    np.random.seed(seed)\n",
    "\n",
    "%matplotlib inline\n",
    "import matplotlib\n",
    "import matplotlib.pyplot as plt\n",
    "plt.rcParams['axes.labelsize'] = 14\n",
    "plt.rcParams['xtick.labelsize'] = 12\n",
    "plt.rcParams['ytick.labelsize'] = 12\n",
    "\n",
    "# 한글출력\n",
    "# matplotlib.rc('font', family='AppleGothic')  # MacOS\n",
    "matplotlib.rc('font', family='Malgun Gothic')  # Windows\n",
    "plt.rcParams['axes.unicode_minus'] = False"
   ]
  },
  {
   "cell_type": "markdown",
   "metadata": {},
   "source": [
    "## 1. Feature Engineering 이란\n",
    "\n",
    "데이터는 아래의 그림처럼 크게 **범주형 데이터**(Categorical, qualitative)와 **수치형 데이터**(Numerical, quantitative)로 나눌 수 있다.\n",
    "\n",
    "![](./images/data.png)"
   ]
  },
  {
   "cell_type": "markdown",
   "metadata": {},
   "source": [
    "이러한 데이터의 형식을 머신러닝/딥러닝 모델에 맞게 데이터를 **표현**(data representation)하는 것이 중요하며, 적합한 데이터의 표현을 찾는 것을 **Feature Engineering**(특성 공학)이라고 한다."
   ]
  },
  {
   "cell_type": "markdown",
   "metadata": {},
   "source": [
    " "
   ]
  },
  {
   "cell_type": "markdown",
   "metadata": {},
   "source": [
    "### 1.1 One-Hot-Encoding (가변수, dummy variable)\n",
    "\n",
    "범주형 변수를 표현하는데 가장 많이 쓰이는 방법은 **원-핫-인코딩(one-hot-encoding)**이다. 원-핫-인코딩을 **가변수(dummy variable)**이라고도 하는데, 범주형 변수를 0 또는 1 값을 가지는 새로운 특성으로 바꾸는 것을 말한다.  \n",
    "\n",
    "예를 들어, 아래의 그림처럼 'color'라는 특성에서 'red, green, blue'의 범주형 데이터를 원-핫-인코딩을 적용하면 각 색깔에 해당하는 부분에는 '1'을 나머지 부분을 '0'으로 바꿔 3개의 특성으로 나타낼 수 있다.\n",
    "\n",
    "![](./images/one-hot.png)"
   ]
  },
  {
   "cell_type": "markdown",
   "metadata": {},
   "source": [
    " "
   ]
  },
  {
   "cell_type": "markdown",
   "metadata": {},
   "source": [
    "#### pandas의 get_dummies()를 이용한 one-hot-encoding\n",
    "\n",
    "`pandas`의 `get_dummies()` 함수를 이용해 간편하게 원-핫-인코딩 할 수 있다. `get_dummies()`함수는 문자열 같은 `object` 나 `category` 타입의 데이터를 자동으로 원-핫-인코딩 해준다."
   ]
  },
  {
   "cell_type": "code",
   "execution_count": 2,
   "metadata": {},
   "outputs": [
    {
     "data": {
      "text/html": [
       "<div>\n",
       "<style scoped>\n",
       "    .dataframe tbody tr th:only-of-type {\n",
       "        vertical-align: middle;\n",
       "    }\n",
       "\n",
       "    .dataframe tbody tr th {\n",
       "        vertical-align: top;\n",
       "    }\n",
       "\n",
       "    .dataframe thead th {\n",
       "        text-align: right;\n",
       "    }\n",
       "</style>\n",
       "<table border=\"1\" class=\"dataframe\">\n",
       "  <thead>\n",
       "    <tr style=\"text-align: right;\">\n",
       "      <th></th>\n",
       "      <th>color</th>\n",
       "    </tr>\n",
       "  </thead>\n",
       "  <tbody>\n",
       "    <tr>\n",
       "      <th>0</th>\n",
       "      <td>red</td>\n",
       "    </tr>\n",
       "    <tr>\n",
       "      <th>1</th>\n",
       "      <td>green</td>\n",
       "    </tr>\n",
       "    <tr>\n",
       "      <th>2</th>\n",
       "      <td>blue</td>\n",
       "    </tr>\n",
       "    <tr>\n",
       "      <th>3</th>\n",
       "      <td>red</td>\n",
       "    </tr>\n",
       "  </tbody>\n",
       "</table>\n",
       "</div>"
      ],
      "text/plain": [
       "   color\n",
       "0    red\n",
       "1  green\n",
       "2   blue\n",
       "3    red"
      ]
     },
     "metadata": {},
     "output_type": "display_data"
    },
    {
     "data": {
      "text/html": [
       "<div>\n",
       "<style scoped>\n",
       "    .dataframe tbody tr th:only-of-type {\n",
       "        vertical-align: middle;\n",
       "    }\n",
       "\n",
       "    .dataframe tbody tr th {\n",
       "        vertical-align: top;\n",
       "    }\n",
       "\n",
       "    .dataframe thead th {\n",
       "        text-align: right;\n",
       "    }\n",
       "</style>\n",
       "<table border=\"1\" class=\"dataframe\">\n",
       "  <thead>\n",
       "    <tr style=\"text-align: right;\">\n",
       "      <th></th>\n",
       "      <th>color_blue</th>\n",
       "      <th>color_green</th>\n",
       "      <th>color_red</th>\n",
       "    </tr>\n",
       "  </thead>\n",
       "  <tbody>\n",
       "    <tr>\n",
       "      <th>0</th>\n",
       "      <td>0</td>\n",
       "      <td>0</td>\n",
       "      <td>1</td>\n",
       "    </tr>\n",
       "    <tr>\n",
       "      <th>1</th>\n",
       "      <td>0</td>\n",
       "      <td>1</td>\n",
       "      <td>0</td>\n",
       "    </tr>\n",
       "    <tr>\n",
       "      <th>2</th>\n",
       "      <td>1</td>\n",
       "      <td>0</td>\n",
       "      <td>0</td>\n",
       "    </tr>\n",
       "    <tr>\n",
       "      <th>3</th>\n",
       "      <td>0</td>\n",
       "      <td>0</td>\n",
       "      <td>1</td>\n",
       "    </tr>\n",
       "  </tbody>\n",
       "</table>\n",
       "</div>"
      ],
      "text/plain": [
       "   color_blue  color_green  color_red\n",
       "0           0            0          1\n",
       "1           0            1          0\n",
       "2           1            0          0\n",
       "3           0            0          1"
      ]
     },
     "metadata": {},
     "output_type": "display_data"
    }
   ],
   "source": [
    "import pandas as pd\n",
    "\n",
    "colors = ['red', 'green', 'blue', 'red']\n",
    "\n",
    "df = pd.DataFrame(colors, columns=['color'])\n",
    "df_dummies = pd.get_dummies(df)\n",
    "display(df)\n",
    "display(df_dummies)"
   ]
  },
  {
   "cell_type": "markdown",
   "metadata": {},
   "source": [
    " "
   ]
  },
  {
   "cell_type": "markdown",
   "metadata": {},
   "source": [
    "#### Scikit-Learn의 OneHotEncoder 이용한 one-hot-encoding\n",
    "\n",
    "scikit-learn의 `OneHotEncoder`를 사용하여 원-핫-인코딩을 해줄 수 있다. 하지만, `OneHotEncoder`는 `int` 형식의 `array`를 입력값으로 받기 때문에, `LabelEncoder`를 이용해 문자열(`str`) 타입인 색깔을 `int` 로 인덱싱 해준 후에 `OneHotEncoder`로 원-핫-인코딩 해줘야 한다."
   ]
  },
  {
   "cell_type": "code",
   "execution_count": 3,
   "metadata": {},
   "outputs": [
    {
     "name": "stdout",
     "output_type": "stream",
     "text": [
      "[[0. 0. 1.]\n",
      " [0. 1. 0.]\n",
      " [1. 0. 0.]\n",
      " [0. 0. 1.]]\n"
     ]
    }
   ],
   "source": [
    "from sklearn.preprocessing import LabelEncoder, OneHotEncoder\n",
    "\n",
    "# str -> int : indexing\n",
    "le = LabelEncoder( ).fit(colors)\n",
    "le_color = le.transform(colors)\n",
    "le_color = le_color.reshape(-1, 1)\n",
    "\n",
    "# indexing -> one-hot\n",
    "ohe = OneHotEncoder(sparse=False).fit(le_color)\n",
    "ohe_color = ohe.transform(le_color)\n",
    "print(ohe_color)"
   ]
  },
  {
   "cell_type": "markdown",
   "metadata": {},
   "source": [
    " "
   ]
  },
  {
   "cell_type": "markdown",
   "metadata": {},
   "source": [
    "#### TensorFlow의 keras.utils.to_categorical()을 이용한 one-hot-encoding\n",
    "\n",
    "TensorFlow의 `tf.keras.utils.to_categorical()`을 이용해 원-핫-인코딩을 해줄 수 있다. `to_categorical()` 또한,  `int` 형식의 `array`를 입력값으로 받기 때문에, `LabelEncoder`를 이용해 문자열(`str`) 타입인 색깔을 `int` 로 인덱싱 해준 후에 `OneHotEncoder`로 원-핫-인코딩 해준다."
   ]
  },
  {
   "cell_type": "code",
   "execution_count": 4,
   "metadata": {},
   "outputs": [
    {
     "name": "stdout",
     "output_type": "stream",
     "text": [
      "[[0. 0. 1.]\n",
      " [0. 1. 0.]\n",
      " [1. 0. 0.]\n",
      " [0. 0. 1.]]\n"
     ]
    }
   ],
   "source": [
    "import tensorflow as tf\n",
    "from sklearn.preprocessing import LabelEncoder\n",
    "\n",
    "# str -> int : indexing\n",
    "le = LabelEncoder( ).fit(colors)\n",
    "le_color = le.transform(colors)\n",
    "le_color = le_color.reshape(-1, 1)\n",
    "\n",
    "# indexing -> one-hot\n",
    "ohe_color = tf.keras.utils.to_categorical(le_color)\n",
    "print(ohe_color)"
   ]
  },
  {
   "cell_type": "markdown",
   "metadata": {},
   "source": [
    " "
   ]
  },
  {
   "cell_type": "markdown",
   "metadata": {},
   "source": [
    "### 1.2 구간 분할(Binning), 이산화(Discretization)\n",
    "\n",
    "선형 모델(linear model)은 선형 관계로만 모델링하므로 특성(feature)이 하나일 때에는 직선으로 적합(fitting)된다. 이러한 선형모델을 더 좋게, 강력하게 모델링하기 위해서는 수치형 데이터인 하나의 특성을 일정한 구간으로 분할하여 여러개의 특성으로 만들어 주는 방법이 있다. 이러한 방법을 **구간 분할(binning)** 또는 이산화(discretization)라고 한다. 즉, 수치형 데이터를 구간 분할을 통해 범주형 데이터로 바꿔주는 것이다.\n",
    "\n",
    "아래의 예제는 Scikit-Learn의 `LinearRegression`을 이용해 샘플 데이터셋에 적용한 것과 구간 분할 후 데이터가 어느 구간에 속하는지 원-핫-인코딩을 이용해 변환한 다음 `LinearRegression`을 적용한 것을 비교한 코드이다."
   ]
  },
  {
   "cell_type": "code",
   "execution_count": 8,
   "metadata": {},
   "outputs": [
    {
     "data": {
      "image/png": "[encoded data removed]",
      "text/plain": [
       "<Figure size 432x288 with 1 Axes>"
      ]
     },
     "metadata": {},
     "output_type": "display_data"
    }
   ],
   "source": [
    "from sklearn.linear_model import LinearRegression\n",
    "from sklearn.preprocessing import OneHotEncoder\n",
    "\n",
    "# create sample dataset\n",
    "def make_wave(n_samples=100):\n",
    "    rnd = np.random.RandomState(42)\n",
    "    x = rnd.uniform(-3, 3, size=n_samples)\n",
    "    y_no_noise = (np.sin(4 * x) + x)\n",
    "    y = (y_no_noise + rnd.normal(size=(len(x)))) / 2\n",
    "    return x.reshape(-1, 1), y\n",
    "\n",
    "\n",
    "X, y = make_wave(n_samples=100)\n",
    "line = np.linspace(-3, 3, 1000, endpoint=False).reshape(-1, 1)\n",
    "\n",
    "#######################\n",
    "# 1. LinearRegression #\n",
    "#######################\n",
    "reg = LinearRegression().fit(X, y)\n",
    "\n",
    "\n",
    "#####################################\n",
    "# 2. LinearRegression after binning #\n",
    "#####################################\n",
    "# binning\n",
    "bins = np.linspace(-3, 3, 11)\n",
    "# print(\"bins: {}\".format(bins))\n",
    "\n",
    "# 데이터가 어느 구간에 속하는지 labeling\n",
    "which_bin = np.digitize(X, bins=bins)\n",
    "# print(\"\\n Data points: \\n\", X[:5])\n",
    "# print(\"\\n 데이터 포인트의 소속 구간: \\n\", which_bin[:5])\n",
    "\n",
    "encoder = OneHotEncoder(sparse=False)\n",
    "encoder.fit(which_bin)\n",
    "# One-hot encoding으로 변환\n",
    "X_binned = encoder.transform(which_bin)\n",
    "# print(X_binned[:5])\n",
    "\n",
    "line_binned = encoder.transform(np.digitize(line, bins=bins))\n",
    "\n",
    "reg_ohe = LinearRegression().fit(X_binned, y)\n",
    "\n",
    "plt.plot(line, reg.predict(line), label='linear regression')\n",
    "plt.plot(line, reg_ohe.predict(line_binned), \n",
    "         label='linear regression binned')\n",
    "plt.plot(X[:, 0], y, 'o', c='k')\n",
    "plt.vlines(bins, -3, 3, linewidth=1, alpha=.2)\n",
    "plt.ylabel(\"Regression output\")\n",
    "plt.xlabel('Input feature')\n",
    "plt.legend(loc='best');"
   ]
  },
  {
   "cell_type": "markdown",
   "metadata": {},
   "source": [
    " "
   ]
  },
  {
   "cell_type": "markdown",
   "metadata": {},
   "source": [
    "### 1.3 특성 교차(Feature Cross)\n",
    "\n",
    "**특성 교차(feature cross)**는 두 개 이상의 특성(feature)들을 곱하여 새로운 특성을 만드는 방법이다. 특성 교차는 아래의 그림과 같이 비선형(non-linear) 문제를 해결할 수 있는 방법 중 하나로 사용할 수 있다.  아래의 왼쪽 그림에서 선형으로 분리할 수 없었던 문제를 $x_3 = x_1 x_2$ 특성 교차를 추가해 줌으로써 **비선형 문제를 선형모델로 학습**시킬 수 있게 된다.\n",
    "\n",
    "\n",
    "$$\n",
    "y = b + w_1x_2 + w_2x_2 + w_3x_3\n",
    "$$\n",
    "\n",
    "\n",
    "![](./images/feature_cross.png)"
   ]
  },
  {
   "cell_type": "markdown",
   "metadata": {},
   "source": [
    " "
   ]
  },
  {
   "cell_type": "markdown",
   "metadata": {},
   "source": [
    "#### 범주형 데이터의 특성 교차\n",
    "\n",
    "특성 교차는 범주형(categorical) 데이터에도 사용할 수 있다. 아래의 그림은 [California Housing Price 데이터셋](http://www.dcc.fc.up.pt/~ltorgo/Regression/cal_housing.html)에 서 위도(latitude)와 경도('longitude')를 각각 5개의 구간으로 분할(binning)한 뒤 특성 교차를 적용한 것으로 노란색 박스 부분을 원-핫-인코딩으로 나타내면 다음과 같이 나타낼 수 있다.\n",
    "\n",
    "```\n",
    "[1, 0, 0, 0, 0, 0, 0, 0, 0, 0, 0, 0, 0, 0, 0, 0, 0, 0, 0, 0, 0, 0, 0, 0, 0] ← (5 x 5)\n",
    "```\n",
    "\n",
    "![](./images/cf-03.png)"
   ]
  },
  {
   "cell_type": "markdown",
   "metadata": {},
   "source": [
    " "
   ]
  },
  {
   "cell_type": "markdown",
   "metadata": {},
   "source": [
    "#### 특성 교차의 임베딩(Embedding)\n",
    "\n",
    "위에서 그림에서 처럼 위도(latitude)와 경도('longitude')를 각각 5개의 구간으로 분할(binning)한 뒤 특성 교차를 이용해 노란색 박스 부분을 원-핫-인코딩으로 나타내면 25차원 중 하나만 '1'이고 나머지 24개는 '0'인 스파스(Sparse)한 데이터로 표현된다(sparse representation). 만약, 범주형 데이터의 차원이 커질수록 특성교차의 원-핫-인코딩은 더욱 Sparse해진다.  이러한 문제를 해결하기 위해 원-핫-인코딩이 아닌 저차원으로 매핑해주는 **임베딩**(embedding)을 이용한다.\n",
    "\n",
    "![](./images/cf-04.png)"
   ]
  },
  {
   "cell_type": "markdown",
   "metadata": {},
   "source": [
    " "
   ]
  },
  {
   "cell_type": "markdown",
   "metadata": {},
   "source": [
    "## 2. TensorFlow Feature Column\n",
    "\n",
    "텐서플로에서는 [`tf.feature_column`](https://www.tensorflow.org/guide/feature_columns)을 이용해 위에서 살펴본 Feature Engineering 방법들을 적용할 수 있다.    `tf.feature_column`은 크게 `CategoricalColumn`과 `DenseColumn`으로 이루어져 있으며 이 둘을 동시에 상속받는 `bucketized_column`이 있다.\n",
    "\n",
    "![](./images/feature_column.PNG)"
   ]
  },
  {
   "cell_type": "markdown",
   "metadata": {},
   "source": [
    " "
   ]
  },
  {
   "cell_type": "markdown",
   "metadata": {},
   "source": [
    "### 2.1 categorical_column_with_vocabulary_list\n",
    "\n",
    "`tf.feature_column.categorical_column_with_vocabulary_list()`는  `str`로 구성된 리스트를 범주형 데이터로 나타낸다. `categorical_column_with_vocabulary_list()`를 사용하기 위해서는 나중에 살펴볼 `indicator_column ` 을 이용해 **Multi-hot**-encoding으로 wrapping하거나,  `embedding_column`을 이용해 저차원으로 임베딩으로 wrapping 해줘야 한다."
   ]
  },
  {
   "cell_type": "code",
   "execution_count": 24,
   "metadata": {},
   "outputs": [
    {
     "name": "stdout",
     "output_type": "stream",
     "text": [
      "[[1. 0. 0.]\n",
      " [0. 1. 0.]\n",
      " [0. 0. 1.]]\n"
     ]
    }
   ],
   "source": [
    "# categorical variable\n",
    "programming = tf.feature_column.categorical_column_with_vocabulary_list(\n",
    "    key='programming',\n",
    "    vocabulary_list=['Python', 'Java', 'C++'])\n",
    "\n",
    "# multi-hot-encoding\n",
    "programming_mh = tf.feature_column.indicator_column(programming)\n",
    "\n",
    "feature_columns = [programming_mh]\n",
    "features = {\n",
    "    'programming': ['Python', 'Java', 'C++'],\n",
    "}\n",
    "\n",
    "# input value\n",
    "input_layer = tf.feature_column.input_layer(\n",
    "    features=features,\n",
    "    feature_columns=feature_columns)\n",
    "\n",
    "# 결과값 확인\n",
    "with tf.Session() as sess:\n",
    "    tf.global_variables_initializer().run()\n",
    "    tf.tables_initializer().run()\n",
    "    inputs = input_layer.eval()\n",
    "    \n",
    "print(inputs)"
   ]
  },
  {
   "cell_type": "markdown",
   "metadata": {},
   "source": [
    " "
   ]
  },
  {
   "cell_type": "markdown",
   "metadata": {},
   "source": [
    "### 2.2 indicator_column\n",
    "\n",
    "`tf.feature_column.indicator_column()`은 범주형 데이터를 **멀티-핫-인코딩**(multi-hot)으로 나타낸다.  아래의 예제는 2.1의 예제를 이어서 `['Python', 'Python', 'C++']` 을 멀티-핫-인코딩 해준 코드이다."
   ]
  },
  {
   "cell_type": "code",
   "execution_count": 26,
   "metadata": {},
   "outputs": [
    {
     "name": "stdout",
     "output_type": "stream",
     "text": [
      "[[2. 0. 1.]]\n"
     ]
    }
   ],
   "source": [
    "feature_columns = [programming_mh]\n",
    "features = {\n",
    "    'programming': [['Python', 'Python', 'C++']],\n",
    "}\n",
    "\n",
    "# input value\n",
    "input_layer = tf.feature_column.input_layer(\n",
    "    features=features,\n",
    "    feature_columns=feature_columns)\n",
    "\n",
    "# 결과값 확인\n",
    "with tf.Session() as sess:\n",
    "    tf.global_variables_initializer().run()\n",
    "    tf.tables_initializer().run()\n",
    "    inputs = input_layer.eval()\n",
    "    \n",
    "print(inputs)"
   ]
  },
  {
   "cell_type": "markdown",
   "metadata": {},
   "source": [
    " "
   ]
  },
  {
   "cell_type": "markdown",
   "metadata": {},
   "source": [
    "### 2.3 numeric_column\n",
    "\n",
    "`tf.feature_column.numeric_column()` 은 수치형 데이터(numerical)를 나타낸다. \n",
    "\n",
    "이제부터 나오는 예제들은  [California Housing Price 데이터셋](http://www.dcc.fc.up.pt/~ltorgo/Regression/cal_housing.html) 을 가지고 작성한 코드이다. 해당 데이터셋은 아래의 코드를 통해 확인할 수 있다.\n"
   ]
  },
  {
   "cell_type": "code",
   "execution_count": 1,
   "metadata": {},
   "outputs": [
    {
     "data": {
      "text/html": [
       "<div>\n",
       "<style scoped>\n",
       "    .dataframe tbody tr th:only-of-type {\n",
       "        vertical-align: middle;\n",
       "    }\n",
       "\n",
       "    .dataframe tbody tr th {\n",
       "        vertical-align: top;\n",
       "    }\n",
       "\n",
       "    .dataframe thead th {\n",
       "        text-align: right;\n",
       "    }\n",
       "</style>\n",
       "<table border=\"1\" class=\"dataframe\">\n",
       "  <thead>\n",
       "    <tr style=\"text-align: right;\">\n",
       "      <th></th>\n",
       "      <th>longitude</th>\n",
       "      <th>latitude</th>\n",
       "      <th>housing_median_age</th>\n",
       "      <th>total_rooms</th>\n",
       "      <th>total_bedrooms</th>\n",
       "      <th>population</th>\n",
       "      <th>households</th>\n",
       "      <th>median_income</th>\n",
       "      <th>median_house_value</th>\n",
       "    </tr>\n",
       "  </thead>\n",
       "  <tbody>\n",
       "    <tr>\n",
       "      <th>0</th>\n",
       "      <td>-114.31</td>\n",
       "      <td>34.19</td>\n",
       "      <td>15.0</td>\n",
       "      <td>5612.0</td>\n",
       "      <td>1283.0</td>\n",
       "      <td>1015.0</td>\n",
       "      <td>472.0</td>\n",
       "      <td>1.4936</td>\n",
       "      <td>66.9</td>\n",
       "    </tr>\n",
       "    <tr>\n",
       "      <th>1</th>\n",
       "      <td>-114.47</td>\n",
       "      <td>34.40</td>\n",
       "      <td>19.0</td>\n",
       "      <td>7650.0</td>\n",
       "      <td>1901.0</td>\n",
       "      <td>1129.0</td>\n",
       "      <td>463.0</td>\n",
       "      <td>1.8200</td>\n",
       "      <td>80.1</td>\n",
       "    </tr>\n",
       "    <tr>\n",
       "      <th>2</th>\n",
       "      <td>-114.56</td>\n",
       "      <td>33.69</td>\n",
       "      <td>17.0</td>\n",
       "      <td>720.0</td>\n",
       "      <td>174.0</td>\n",
       "      <td>333.0</td>\n",
       "      <td>117.0</td>\n",
       "      <td>1.6509</td>\n",
       "      <td>85.7</td>\n",
       "    </tr>\n",
       "    <tr>\n",
       "      <th>3</th>\n",
       "      <td>-114.57</td>\n",
       "      <td>33.64</td>\n",
       "      <td>14.0</td>\n",
       "      <td>1501.0</td>\n",
       "      <td>337.0</td>\n",
       "      <td>515.0</td>\n",
       "      <td>226.0</td>\n",
       "      <td>3.1917</td>\n",
       "      <td>73.4</td>\n",
       "    </tr>\n",
       "    <tr>\n",
       "      <th>4</th>\n",
       "      <td>-114.57</td>\n",
       "      <td>33.57</td>\n",
       "      <td>20.0</td>\n",
       "      <td>1454.0</td>\n",
       "      <td>326.0</td>\n",
       "      <td>624.0</td>\n",
       "      <td>262.0</td>\n",
       "      <td>1.9250</td>\n",
       "      <td>65.5</td>\n",
       "    </tr>\n",
       "  </tbody>\n",
       "</table>\n",
       "</div>"
      ],
      "text/plain": [
       "   longitude  latitude  housing_median_age  total_rooms  total_bedrooms  \\\n",
       "0    -114.31     34.19                15.0       5612.0          1283.0   \n",
       "1    -114.47     34.40                19.0       7650.0          1901.0   \n",
       "2    -114.56     33.69                17.0        720.0           174.0   \n",
       "3    -114.57     33.64                14.0       1501.0           337.0   \n",
       "4    -114.57     33.57                20.0       1454.0           326.0   \n",
       "\n",
       "   population  households  median_income  median_house_value  \n",
       "0      1015.0       472.0         1.4936                66.9  \n",
       "1      1129.0       463.0         1.8200                80.1  \n",
       "2       333.0       117.0         1.6509                85.7  \n",
       "3       515.0       226.0         3.1917                73.4  \n",
       "4       624.0       262.0         1.9250                65.5  "
      ]
     },
     "execution_count": 1,
     "metadata": {},
     "output_type": "execute_result"
    }
   ],
   "source": [
    "import pandas as pd\n",
    "import tensorflow as tf\n",
    "\n",
    "cf_housing_df = pd.read_csv('https://storage.googleapis.com/mledu-datasets/california_housing_train.csv')\n",
    "cf_housing_df['median_house_value'] = cf_housing_df['median_house_value'] / 1000.0\n",
    "cf_housing_df.head()"
   ]
  },
  {
   "cell_type": "markdown",
   "metadata": {},
   "source": [
    " "
   ]
  },
  {
   "cell_type": "markdown",
   "metadata": {},
   "source": [
    "아래의 코드는 위도(latitude)와 경도(longitude)를 `numeric_column()`을 이용해 수치형 데이터로 나타낸 것이다."
   ]
  },
  {
   "cell_type": "code",
   "execution_count": 27,
   "metadata": {},
   "outputs": [
    {
     "name": "stdout",
     "output_type": "stream",
     "text": [
      "[[  34.19 -114.31]]\n"
     ]
    }
   ],
   "source": [
    "longitude = tf.feature_column.numeric_column(\"longitude\")\n",
    "latitude = tf.feature_column.numeric_column(\"latitude\")\n",
    "\n",
    "feature_columns = [longitude,latitude]\n",
    "features = {\n",
    "    'longitude': [-114.31],\n",
    "    'latitude': [34.19]\n",
    "}\n",
    "\n",
    "input_layer = tf.feature_column.input_layer(\n",
    "    features=features,\n",
    "    feature_columns=feature_columns)\n",
    "\n",
    "with tf.Session() as sess:\n",
    "    inputs = input_layer.eval()\n",
    "    \n",
    "print(inputs)"
   ]
  },
  {
   "cell_type": "markdown",
   "metadata": {},
   "source": [
    " "
   ]
  },
  {
   "cell_type": "markdown",
   "metadata": {},
   "source": [
    "### 2.4 bucketized_column\n",
    "\n",
    "`tf.feature_column.bucketized_column()` 은 수치형 데이터를 구간 분할(binning), 즉 버킷화(bucketization)하여 나타낸다. `boundaries` 인자에 구간을 설정해주면, 해당 구간에 맞춰 원-핫-인코딩을 해준다. 아래의 예제는 2.3에서 `numeric_coumn()`을 이용해 수치형 데이터로 나타내준 다음 `bucketized_column()`을 이용해 버킷화 해준 것이다."
   ]
  },
  {
   "cell_type": "code",
   "execution_count": 40,
   "metadata": {},
   "outputs": [
    {
     "name": "stdout",
     "output_type": "stream",
     "text": [
      "[[0. 1. 0. 0. 0.]]\n",
      "(32.54, 35.67666666666667, 38.81333333333333, 41.95)\n"
     ]
    }
   ],
   "source": [
    "import numpy as np\n",
    "\n",
    "# boundary 설정 함수 (min-max)\n",
    "def get_minmax_based_boundaries(feature_values, num_buckets):\n",
    "    min_feature_values = feature_values.min()\n",
    "    max_feature_values = feature_values.max()\n",
    "    boundaries = np.linspace(min_feature_values, max_feature_values, num_buckets-1)\n",
    "    return boundaries.tolist()\n",
    "\n",
    "\n",
    "# 위도\n",
    "latitude = tf.feature_column.numeric_column(\"latitude\")\n",
    "\n",
    "# Divide latitude into 5 buckets\n",
    "bucketized_latitude = tf.feature_column.bucketized_column(\n",
    "    latitude, boundaries=get_minmax_based_boundaries(\n",
    "        cf_housing_df['latitude'], 5))\n",
    "\n",
    "feature_columns = [bucketized_latitude]\n",
    "input_layer = tf.feature_column.input_layer(\n",
    "    features={'latitude': [33]},\n",
    "    feature_columns=feature_columns)\n",
    "\n",
    "with tf.Session() as sess:\n",
    "    inputs = input_layer.eval()\n",
    "\n",
    "print(inputs)\n",
    "print(bucketized_latitude.boundaries)"
   ]
  },
  {
   "cell_type": "code",
   "execution_count": 41,
   "metadata": {},
   "outputs": [
    {
     "name": "stdout",
     "output_type": "stream",
     "text": [
      "[[0. 1. 0. 0. 0.]]\n",
      "(-124.35, -121.00333333333333, -117.65666666666667, -114.31)\n"
     ]
    }
   ],
   "source": [
    "# 경도\n",
    "longitude = tf.feature_column.numeric_column(\"longitude\")\n",
    "\n",
    "# Divide longitude into 5 buckets\n",
    "bucketized_longitude = tf.feature_column.bucketized_column(\n",
    "    longitude, boundaries=get_minmax_based_boundaries(\n",
    "        cf_housing_df[\"longitude\"], 5))\n",
    "\n",
    "\n",
    "feature_columns = [bucketized_longitude]\n",
    "input_layer = tf.feature_column.input_layer(\n",
    "    features={'longitude': [-123.3]},\n",
    "    feature_columns=feature_columns)\n",
    "\n",
    "\n",
    "with tf.Session() as sess:\n",
    "    inputs = input_layer.eval()\n",
    "\n",
    "print(inputs)\n",
    "print(bucketized_longitude.boundaries)"
   ]
  },
  {
   "cell_type": "markdown",
   "metadata": {},
   "source": [
    " "
   ]
  },
  {
   "cell_type": "markdown",
   "metadata": {},
   "source": [
    "### 2.5 crossed_column\n",
    "\n",
    "`tf.feature_column.crossed_column()` 은 범주형 특성(feature)들에 대해 특성 교차(feature cross)를 제공해 준다. 다음 예제는 '1.3 특성 교차'에서도 살펴 보았던 위도(latitude)와 경도('longitude')를 각각 5개의 구간으로 분할(binning)한 뒤 특성 교차를 적용한 것이다.\n",
    "\n",
    "![](./images/cf-05.png)"
   ]
  },
  {
   "cell_type": "code",
   "execution_count": 47,
   "metadata": {},
   "outputs": [
    {
     "name": "stdout",
     "output_type": "stream",
     "text": [
      "[[0. 1. 0. 0. 0. 0. 0. 0. 0. 0. 0. 0. 0. 0. 0. 0. 0. 0. 0. 0. 0. 0. 0. 0.\n",
      "  0.]]\n"
     ]
    }
   ],
   "source": [
    "# feature cross\n",
    "long_x_lat = tf.feature_column.crossed_column(\n",
    "    [bucketized_longitude, bucketized_latitude], 5*5)\n",
    "\n",
    "# crossed feature -> one-hot(indicator column)\n",
    "long_x_lat_ohe = tf.feature_column.indicator_column(long_x_lat)\n",
    "\n",
    "feature_columns = [long_x_lat_ohe]\n",
    "\n",
    "input_layer = tf.feature_column.input_layer(\n",
    "    features={'longitude': [-123], 'latitude': [41]},\n",
    "    feature_columns=feature_columns)\n",
    "\n",
    "with tf.Session() as sess:\n",
    "    inputs = input_layer.eval()\n",
    "    \n",
    "print(inputs)"
   ]
  },
  {
   "cell_type": "markdown",
   "metadata": {},
   "source": [
    " "
   ]
  },
  {
   "cell_type": "markdown",
   "metadata": {},
   "source": [
    "`crossed_column()`은 `hash_bucket_size`를 인자로 받는다.  이 `hash_bucket_size`에 따라 특성 교차는 해시화([여기](http://excelsior-cjh.tistory.com/125?category=922441) 참고, 예를들어 `feature_cross % hash_bucket_size`) 되어 원-핫-인코딩된다.  하지만,  `hash_bucket_size`가 `feature_cross`(위의 예제에서는 25) 보다 작을 경우, 해시 충돌이 일어날 가능성이 높다."
   ]
  },
  {
   "cell_type": "markdown",
   "metadata": {},
   "source": [
    " "
   ]
  },
  {
   "cell_type": "markdown",
   "metadata": {},
   "source": [
    "### 2.6 embedding_column\n",
    "\n",
    "`tf.feature_column.embedding_column()`은 원-핫-인코딩과 같이 Sparse한 범주형 데이터를 저차원으로 임베딩하여 나타내 준다. 아래의 예제는 '2.5 crossed_column'에서 위도(latitude)와 경도('longitude')를 각각 5개의 구간으로 분할(binning)한 뒤 특성 교차를 적용한 후 6개의 차원으로 랜덤하게 임베딩한 코드이다."
   ]
  },
  {
   "cell_type": "code",
   "execution_count": 51,
   "metadata": {},
   "outputs": [
    {
     "name": "stdout",
     "output_type": "stream",
     "text": [
      "[[ 0.1412789  -0.77129287  0.33885026  0.16986488 -0.01280053  0.3130083 ]]\n"
     ]
    }
   ],
   "source": [
    "embed_long_x_lat = tf.feature_column.embedding_column(\n",
    "    long_x_lat, 6)\n",
    "\n",
    "feature_columns = [embed_long_x_lat]\n",
    "\n",
    "input_layer = tf.feature_column.input_layer(\n",
    "    features={'longitude': [-123], 'latitude': [41]},\n",
    "    feature_columns=feature_columns)\n",
    "\n",
    "with tf.Session() as sess:\n",
    "    tf.global_variables_initializer().run()\n",
    "    inputs = input_layer.eval()\n",
    "    \n",
    "print(inputs)"
   ]
  },
  {
   "cell_type": "markdown",
   "metadata": {},
   "source": [
    " "
   ]
  },
  {
   "cell_type": "markdown",
   "metadata": {},
   "source": [
    "## 3. 텐서플로 Low-Level API를 이용해 범주형 데이터 모델링\n",
    "\n",
    "위에서 살펴본 내용을 토대로, 텐서플로의 Low-Level을 이용해 California Housing Price 데이터셋에서 주택가격을 예측하는 모델을 만들어 보도록 하자. "
   ]
  },
  {
   "cell_type": "code",
   "execution_count": 52,
   "metadata": {},
   "outputs": [
    {
     "data": {
      "text/html": [
       "<div>\n",
       "<style scoped>\n",
       "    .dataframe tbody tr th:only-of-type {\n",
       "        vertical-align: middle;\n",
       "    }\n",
       "\n",
       "    .dataframe tbody tr th {\n",
       "        vertical-align: top;\n",
       "    }\n",
       "\n",
       "    .dataframe thead th {\n",
       "        text-align: right;\n",
       "    }\n",
       "</style>\n",
       "<table border=\"1\" class=\"dataframe\">\n",
       "  <thead>\n",
       "    <tr style=\"text-align: right;\">\n",
       "      <th></th>\n",
       "      <th>longitude</th>\n",
       "      <th>latitude</th>\n",
       "      <th>housing_median_age</th>\n",
       "      <th>total_rooms</th>\n",
       "      <th>total_bedrooms</th>\n",
       "      <th>population</th>\n",
       "      <th>households</th>\n",
       "      <th>median_income</th>\n",
       "      <th>median_house_value</th>\n",
       "    </tr>\n",
       "  </thead>\n",
       "  <tbody>\n",
       "    <tr>\n",
       "      <th>0</th>\n",
       "      <td>-114.31</td>\n",
       "      <td>34.19</td>\n",
       "      <td>15.0</td>\n",
       "      <td>5612.0</td>\n",
       "      <td>1283.0</td>\n",
       "      <td>1015.0</td>\n",
       "      <td>472.0</td>\n",
       "      <td>1.4936</td>\n",
       "      <td>66.9</td>\n",
       "    </tr>\n",
       "    <tr>\n",
       "      <th>1</th>\n",
       "      <td>-114.47</td>\n",
       "      <td>34.40</td>\n",
       "      <td>19.0</td>\n",
       "      <td>7650.0</td>\n",
       "      <td>1901.0</td>\n",
       "      <td>1129.0</td>\n",
       "      <td>463.0</td>\n",
       "      <td>1.8200</td>\n",
       "      <td>80.1</td>\n",
       "    </tr>\n",
       "    <tr>\n",
       "      <th>2</th>\n",
       "      <td>-114.56</td>\n",
       "      <td>33.69</td>\n",
       "      <td>17.0</td>\n",
       "      <td>720.0</td>\n",
       "      <td>174.0</td>\n",
       "      <td>333.0</td>\n",
       "      <td>117.0</td>\n",
       "      <td>1.6509</td>\n",
       "      <td>85.7</td>\n",
       "    </tr>\n",
       "    <tr>\n",
       "      <th>3</th>\n",
       "      <td>-114.57</td>\n",
       "      <td>33.64</td>\n",
       "      <td>14.0</td>\n",
       "      <td>1501.0</td>\n",
       "      <td>337.0</td>\n",
       "      <td>515.0</td>\n",
       "      <td>226.0</td>\n",
       "      <td>3.1917</td>\n",
       "      <td>73.4</td>\n",
       "    </tr>\n",
       "    <tr>\n",
       "      <th>4</th>\n",
       "      <td>-114.57</td>\n",
       "      <td>33.57</td>\n",
       "      <td>20.0</td>\n",
       "      <td>1454.0</td>\n",
       "      <td>326.0</td>\n",
       "      <td>624.0</td>\n",
       "      <td>262.0</td>\n",
       "      <td>1.9250</td>\n",
       "      <td>65.5</td>\n",
       "    </tr>\n",
       "  </tbody>\n",
       "</table>\n",
       "</div>"
      ],
      "text/plain": [
       "   longitude  latitude  housing_median_age  total_rooms  total_bedrooms  \\\n",
       "0    -114.31     34.19                15.0       5612.0          1283.0   \n",
       "1    -114.47     34.40                19.0       7650.0          1901.0   \n",
       "2    -114.56     33.69                17.0        720.0           174.0   \n",
       "3    -114.57     33.64                14.0       1501.0           337.0   \n",
       "4    -114.57     33.57                20.0       1454.0           326.0   \n",
       "\n",
       "   population  households  median_income  median_house_value  \n",
       "0      1015.0       472.0         1.4936                66.9  \n",
       "1      1129.0       463.0         1.8200                80.1  \n",
       "2       333.0       117.0         1.6509                85.7  \n",
       "3       515.0       226.0         3.1917                73.4  \n",
       "4       624.0       262.0         1.9250                65.5  "
      ]
     },
     "execution_count": 52,
     "metadata": {},
     "output_type": "execute_result"
    }
   ],
   "source": [
    "cf_housing_df = pd.read_csv('https://storage.googleapis.com/mledu-datasets/california_housing_train.csv')\n",
    "cf_housing_df['median_house_value'] = cf_housing_df['median_house_value'] / 1000.0\n",
    "cf_housing_df.head()"
   ]
  },
  {
   "cell_type": "code",
   "execution_count": 53,
   "metadata": {},
   "outputs": [
    {
     "data": {
      "text/html": [
       "<div>\n",
       "<style scoped>\n",
       "    .dataframe tbody tr th:only-of-type {\n",
       "        vertical-align: middle;\n",
       "    }\n",
       "\n",
       "    .dataframe tbody tr th {\n",
       "        vertical-align: top;\n",
       "    }\n",
       "\n",
       "    .dataframe thead th {\n",
       "        text-align: right;\n",
       "    }\n",
       "</style>\n",
       "<table border=\"1\" class=\"dataframe\">\n",
       "  <thead>\n",
       "    <tr style=\"text-align: right;\">\n",
       "      <th></th>\n",
       "      <th>longitude</th>\n",
       "      <th>latitude</th>\n",
       "      <th>housing_median_age</th>\n",
       "      <th>total_rooms</th>\n",
       "      <th>total_bedrooms</th>\n",
       "      <th>population</th>\n",
       "      <th>households</th>\n",
       "      <th>median_income</th>\n",
       "      <th>median_house_value</th>\n",
       "    </tr>\n",
       "  </thead>\n",
       "  <tbody>\n",
       "    <tr>\n",
       "      <th>0</th>\n",
       "      <td>[-114.31]</td>\n",
       "      <td>[34.19]</td>\n",
       "      <td>[15.0]</td>\n",
       "      <td>[5612.0]</td>\n",
       "      <td>[1283.0]</td>\n",
       "      <td>[1015.0]</td>\n",
       "      <td>[472.0]</td>\n",
       "      <td>[1.4936]</td>\n",
       "      <td>66.9</td>\n",
       "    </tr>\n",
       "    <tr>\n",
       "      <th>1</th>\n",
       "      <td>[-114.47]</td>\n",
       "      <td>[34.4]</td>\n",
       "      <td>[19.0]</td>\n",
       "      <td>[7650.0]</td>\n",
       "      <td>[1901.0]</td>\n",
       "      <td>[1129.0]</td>\n",
       "      <td>[463.0]</td>\n",
       "      <td>[1.82]</td>\n",
       "      <td>80.1</td>\n",
       "    </tr>\n",
       "    <tr>\n",
       "      <th>2</th>\n",
       "      <td>[-114.56]</td>\n",
       "      <td>[33.69]</td>\n",
       "      <td>[17.0]</td>\n",
       "      <td>[720.0]</td>\n",
       "      <td>[174.0]</td>\n",
       "      <td>[333.0]</td>\n",
       "      <td>[117.0]</td>\n",
       "      <td>[1.6509]</td>\n",
       "      <td>85.7</td>\n",
       "    </tr>\n",
       "    <tr>\n",
       "      <th>3</th>\n",
       "      <td>[-114.57]</td>\n",
       "      <td>[33.64]</td>\n",
       "      <td>[14.0]</td>\n",
       "      <td>[1501.0]</td>\n",
       "      <td>[337.0]</td>\n",
       "      <td>[515.0]</td>\n",
       "      <td>[226.0]</td>\n",
       "      <td>[3.1917]</td>\n",
       "      <td>73.4</td>\n",
       "    </tr>\n",
       "    <tr>\n",
       "      <th>4</th>\n",
       "      <td>[-114.57]</td>\n",
       "      <td>[33.57]</td>\n",
       "      <td>[20.0]</td>\n",
       "      <td>[1454.0]</td>\n",
       "      <td>[326.0]</td>\n",
       "      <td>[624.0]</td>\n",
       "      <td>[262.0]</td>\n",
       "      <td>[1.925]</td>\n",
       "      <td>65.5</td>\n",
       "    </tr>\n",
       "  </tbody>\n",
       "</table>\n",
       "</div>"
      ],
      "text/plain": [
       "   longitude latitude housing_median_age total_rooms total_bedrooms  \\\n",
       "0  [-114.31]  [34.19]             [15.0]    [5612.0]       [1283.0]   \n",
       "1  [-114.47]   [34.4]             [19.0]    [7650.0]       [1901.0]   \n",
       "2  [-114.56]  [33.69]             [17.0]     [720.0]        [174.0]   \n",
       "3  [-114.57]  [33.64]             [14.0]    [1501.0]        [337.0]   \n",
       "4  [-114.57]  [33.57]             [20.0]    [1454.0]        [326.0]   \n",
       "\n",
       "  population households median_income  median_house_value  \n",
       "0   [1015.0]    [472.0]      [1.4936]                66.9  \n",
       "1   [1129.0]    [463.0]        [1.82]                80.1  \n",
       "2    [333.0]    [117.0]      [1.6509]                85.7  \n",
       "3    [515.0]    [226.0]      [3.1917]                73.4  \n",
       "4    [624.0]    [262.0]       [1.925]                65.5  "
      ]
     },
     "execution_count": 53,
     "metadata": {},
     "output_type": "execute_result"
    }
   ],
   "source": [
    "columns = cf_housing_df.columns.tolist()[:-1]\n",
    "\n",
    "for column in columns:\n",
    "    cf_housing_df[column] = cf_housing_df[column].apply(lambda row: [row])\n",
    "    \n",
    "cf_housing_df.head()"
   ]
  },
  {
   "cell_type": "code",
   "execution_count": 54,
   "metadata": {},
   "outputs": [],
   "source": [
    "train_x, train_y = cf_housing_df[:12000], cf_housing_df['median_house_value'][:12000]\n",
    "test_x, test_y = cf_housing_df[12000:], cf_housing_df['median_house_value'][12000:]\n",
    "train_y, test_y = train_y.values.reshape(-1, 1), test_y.values.reshape(-1, 1)"
   ]
  },
  {
   "cell_type": "code",
   "execution_count": 55,
   "metadata": {},
   "outputs": [],
   "source": [
    "def get_minmax_based_boundaries(feature_values, num_buckets):\n",
    "    min_feature_values = feature_values.min()\n",
    "    max_feature_values = feature_values.max()\n",
    "    boundaries = np.linspace(min_feature_values, max_feature_values, num_buckets-1)\n",
    "    return boundaries.tolist()"
   ]
  },
  {
   "cell_type": "code",
   "execution_count": 67,
   "metadata": {},
   "outputs": [],
   "source": [
    "longitude = tf.feature_column.numeric_column(\"longitude\")\n",
    "latitude = tf.feature_column.numeric_column(\"latitude\")\n",
    "housing_median_age = tf.feature_column.numeric_column(\"housing_median_age\")\n",
    "households = tf.feature_column.numeric_column(\"households\")\n",
    "median_income = tf.feature_column.numeric_column(\"median_income\")\n",
    "\n",
    "\n",
    "# Divide longitude into 5 buckets.\n",
    "bucketized_longitude = tf.feature_column.bucketized_column(\n",
    "    longitude, boundaries=get_minmax_based_boundaries(\n",
    "      train_x[\"longitude\"].apply(lambda x: x[0]), 5))\n",
    "\n",
    "# Divide latitude into 5 buckets.\n",
    "bucketized_latitude = tf.feature_column.bucketized_column(\n",
    "    latitude, boundaries=get_minmax_based_boundaries(\n",
    "      train_x[\"latitude\"].apply(lambda x: x[0]), 5))\n",
    "\n",
    "# Divide housing_median_age into 7 buckets.\n",
    "bucketized_housing_median_age = tf.feature_column.bucketized_column(\n",
    "    housing_median_age, boundaries=get_minmax_based_boundaries(\n",
    "      train_x[\"housing_median_age\"].apply(lambda x: x[0]), 7))\n",
    "\n",
    "# Divide households into 7 buckets.\n",
    "bucketized_households = tf.feature_column.bucketized_column(\n",
    "    households, boundaries=get_minmax_based_boundaries(\n",
    "      train_x[\"households\"].apply(lambda x: x[0]), 7))\n",
    "\n",
    "# Divide median_income into 7 buckets.\n",
    "bucketized_median_income = tf.feature_column.bucketized_column(\n",
    "    median_income, boundaries=get_minmax_based_boundaries(\n",
    "      train_x[\"median_income\"].apply(lambda x: x[0]), 7))\n",
    "\n",
    "# Feature Cross: longitude x latitude\n",
    "long_x_lat = tf.feature_column.crossed_column(\n",
    "    set([bucketized_longitude, bucketized_latitude]), hash_bucket_size=5*5)\n",
    "\n",
    "# crossed feature -> one-hot(indicator column)\n",
    "long_x_lat_ohe = tf.feature_column.indicator_column(long_x_lat)"
   ]
  },
  {
   "cell_type": "code",
   "execution_count": 68,
   "metadata": {},
   "outputs": [],
   "source": [
    "features = {\n",
    "    'longitude': train_x['longitude'].tolist(),\n",
    "    'latitude': train_x['latitude'].tolist(),\n",
    "    'housing_median_age': train_x['housing_median_age'].tolist(),\n",
    "    'households': train_x['households'].tolist(),\n",
    "    'median_income': train_x['median_income'].tolist() \n",
    "}\n",
    "\n",
    "feature_columns = set([\n",
    "    bucketized_longitude,  # 5\n",
    "    bucketized_latitude,  # 5\n",
    "    bucketized_housing_median_age,  # 7\n",
    "    bucketized_households,  # 7\n",
    "    bucketized_median_income,  # 7\n",
    "    long_x_lat_ohe])  # 25  total: 56"
   ]
  },
  {
   "cell_type": "code",
   "execution_count": 69,
   "metadata": {},
   "outputs": [],
   "source": [
    "inputs = tf.feature_column.input_layer(\n",
    "    features=features,\n",
    "    feature_columns=feature_columns)\n",
    "\n",
    "labels = tf.placeholder(tf.float32, [12000, 1])"
   ]
  },
  {
   "cell_type": "code",
   "execution_count": 59,
   "metadata": {},
   "outputs": [],
   "source": [
    "W = tf.Variable(\n",
    "        tf.truncated_normal([56, 1], stddev=0.1))\n",
    "b = tf.Variable(tf.zeros([1]))\n",
    "\n",
    "predictions = tf.matmul(inputs, W) + b\n",
    "\n",
    "# predictions = tf.layers.dense(inputs, 1, \n",
    "#                              kernel_initializer=tf.truncated_normal_initializer(stddev=0.1))\n",
    "\n",
    "# loss & optimizer\n",
    "rmse = tf.sqrt(\n",
    "        tf.losses.mean_squared_error(labels=labels, predictions=predictions))\n",
    "train_op = tf.train.GradientDescentOptimizer(learning_rate=1.0).minimize(rmse)"
   ]
  },
  {
   "cell_type": "code",
   "execution_count": 60,
   "metadata": {},
   "outputs": [
    {
     "name": "stdout",
     "output_type": "stream",
     "text": [
      "Epoch: 030, RMSE: 141.7832\n",
      "Epoch: 060, RMSE: 108.2888\n",
      "Epoch: 090, RMSE: 102.8315\n",
      "Epoch: 120, RMSE: 101.0997\n",
      "Epoch: 150, RMSE: 99.8150\n",
      "Epoch: 180, RMSE: 98.7043\n",
      "Epoch: 210, RMSE: 97.7213\n",
      "Epoch: 240, RMSE: 96.8407\n",
      "Epoch: 270, RMSE: 96.0438\n",
      "Epoch: 300, RMSE: 95.3159\n"
     ]
    }
   ],
   "source": [
    "num_epoch = 300\n",
    "\n",
    "with tf.Session() as sess:\n",
    "    sess.run(tf.global_variables_initializer())\n",
    "    \n",
    "    for epoch in range(num_epoch):\n",
    "        loss, _ = sess.run([rmse, train_op], feed_dict={labels: train_y})\n",
    "        \n",
    "        if (epoch+1) % 30 == 0:\n",
    "            print('Epoch: {:03d}, RMSE: {:.4f}'.format(epoch+1, loss))\n",
    "            \n",
    "    weights = W.eval()\n",
    "    bias = b.eval()"
   ]
  },
  {
   "cell_type": "code",
   "execution_count": null,
   "metadata": {},
   "outputs": [],
   "source": []
  }
 ],
 "metadata": {
  "kernelspec": {
   "display_name": "tensorflow",
   "language": "python",
   "name": "tensorflow"
  },
  "language_info": {
   "codemirror_mode": {
    "name": "ipython",
    "version": 3
   },
   "file_extension": ".py",
   "mimetype": "text/x-python",
   "name": "python",
   "nbconvert_exporter": "python",
   "pygments_lexer": "ipython3",
   "version": "3.6.6"
  }
 },
 "nbformat": 4,
 "nbformat_minor": 2
}
