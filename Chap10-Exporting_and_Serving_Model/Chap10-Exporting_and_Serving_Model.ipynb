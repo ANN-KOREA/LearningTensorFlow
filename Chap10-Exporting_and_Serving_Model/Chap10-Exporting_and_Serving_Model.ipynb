{
 "cells": [
  {
   "cell_type": "markdown",
   "metadata": {},
   "source": [
    "# Chap10 - 모델 익스포트와 서빙\n",
    "\n",
    "> 학습한 모델을 저장하고 내보내는 방법에 대해 알아보고 텐서플로 서빙(TensorFlow Serving)에 대해 알아보자."
   ]
  },
  {
   "cell_type": "markdown",
   "metadata": {},
   "source": [
    " "
   ]
  },
  {
   "cell_type": "markdown",
   "metadata": {},
   "source": [
    "## 10.1 모델을 저장하고 내보내기\n",
    "\n",
    "텐서플로를 이용해 모델을 만들고 학습한 뒤 학습된 모델 즉, 매개변수(weight, bias)를 저장하는 방법에 대해 알아보자. 이렇게 학습된 모델을 저장해놓으면 나중에 모델을 처음 부터 다시 학습시킬 필요가 없기 때문에 편리하다.\n",
    "\n",
    "학습된 모델을 저장하기 위해 NumPy를 이용해 매개변수를 저장하는 방법을 알아보고, 텐서플로의 `Saver`를 이용해 모델을 저장하고 관리하는 방법에 대해 알아보자. "
   ]
  },
  {
   "cell_type": "markdown",
   "metadata": {},
   "source": [
    " "
   ]
  },
  {
   "cell_type": "markdown",
   "metadata": {},
   "source": [
    "### 10.1.1 로딩된 가중치 할당 \n",
    "\n",
    "먼저, NumPy의 `savez`를 이용해 학습된 가중치 값을 저장하고, 불러오는 방법에 대해 알아보자. 이를 위해, [Chap02-텐서플로 설치 및 실행](http://excelsior-cjh.tistory.com/149?category=940399)에서 살펴본 Softmax Regression을 이용해 MNIST 데이터 분류 모델을 만들어 준다."
   ]
  },
  {
   "cell_type": "code",
   "execution_count": 1,
   "metadata": {},
   "outputs": [],
   "source": [
    "import tensorflow as tf\n",
    "\n",
    "# Hyper-Parameter\n",
    "NUM_STEPS = 1000\n",
    "MINIBATCH_SIZE = 100\n",
    "\n",
    "# MNIST data load\n",
    "(train_x, train_y), (test_x, test_y) = tf.keras.datasets.mnist.load_data()\n",
    "train_x, test_x = train_x.reshape(-1, 28*28), test_x.reshape(-1, 28*28)\n",
    "train_x, test_x = train_x/255., test_x/255.\n",
    "\n",
    "inputs = tf.placeholder(tf.float32, [None, 28*28])\n",
    "weights = tf.Variable(tf.truncated_normal(shape=[28*28, 10], stddev=0.01))\n",
    "\n",
    "logits = tf.matmul(inputs, weights)\n",
    "labels = tf.placeholder(tf.float32, [None, 10])\n",
    "\n",
    "# loss\n",
    "cross_entropy = tf.reduce_mean(\n",
    "        tf.nn.softmax_cross_entropy_with_logits_v2(logits=logits, labels=labels))"
   ]
  },
  {
   "cell_type": "code",
   "execution_count": 6,
   "metadata": {},
   "outputs": [],
   "source": [
    "(train_x, train_y), (test_x, test_y) = tf.keras.datasets.mnist.load_data()\n",
    "train_x, test_x = train_x/255., test_x/255."
   ]
  },
  {
   "cell_type": "code",
   "execution_count": 8,
   "metadata": {},
   "outputs": [
    {
     "data": {
      "text/plain": [
       "(60000, 784)"
      ]
     },
     "execution_count": 8,
     "metadata": {},
     "output_type": "execute_result"
    }
   ],
   "source": [
    "train_x.reshape(-1, 28*28).shape"
   ]
  },
  {
   "cell_type": "code",
   "execution_count": null,
   "metadata": {},
   "outputs": [],
   "source": []
  }
 ],
 "metadata": {
  "kernelspec": {
   "display_name": "tensorflow",
   "language": "python",
   "name": "tensorflow"
  },
  "language_info": {
   "codemirror_mode": {
    "name": "ipython",
    "version": 3
   },
   "file_extension": ".py",
   "mimetype": "text/x-python",
   "name": "python",
   "nbconvert_exporter": "python",
   "pygments_lexer": "ipython3",
   "version": "3.6.5"
  }
 },
 "nbformat": 4,
 "nbformat_minor": 2
}
